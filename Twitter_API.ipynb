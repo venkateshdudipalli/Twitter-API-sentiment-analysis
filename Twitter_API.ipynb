{
  "nbformat": 4,
  "nbformat_minor": 0,
  "metadata": {
    "colab": {
      "name": "Twitter_API.ipynb",
      "provenance": [],
      "collapsed_sections": []
    },
    "kernelspec": {
      "name": "python3",
      "display_name": "Python 3"
    },
    "language_info": {
      "name": "python"
    }
  },
  "cells": [
    {
      "cell_type": "code",
      "metadata": {
        "id": "Niopc74ICNdB"
      },
      "source": [
        "import pandas as pd\n",
        "import numpy as np\n",
        "import matplotlib.pyplot as plt\n",
        "\n",
        "#list of useful imports that  I will use\n",
        "%matplotlib inline\n",
        "import os\n",
        "\n",
        "import numpy as np\n",
        "\n",
        "import seaborn as sns\n",
        "import random\n",
        "\n",
        "from sklearn.feature_extraction.text import TfidfVectorizer\n",
        "\n",
        "from sklearn.feature_extraction.text import CountVectorizer\n",
        "from sklearn.metrics import confusion_matrix\n",
        "from sklearn import metrics\n",
        "from sklearn.metrics import roc_curve, auc\n",
        "from nltk.stem.porter import PorterStemmer\n",
        "\n",
        "from nltk.corpus import stopwords \n",
        "from nltk.tokenize import word_tokenize\n",
        "\n",
        "\n"
      ],
      "execution_count": 12,
      "outputs": []
    },
    {
      "cell_type": "code",
      "metadata": {
        "colab": {
          "base_uri": "https://localhost:8080/"
        },
        "id": "3HynlkruCOjh",
        "outputId": "2ae677ff-caa1-4144-a648-8dacffbf46cc"
      },
      "source": [
        "# Run this cell to mount your Google Drive.\n",
        "from google.colab import drive\n",
        "drive.mount('/content/drive')"
      ],
      "execution_count": 13,
      "outputs": [
        {
          "output_type": "stream",
          "text": [
            "Drive already mounted at /content/drive; to attempt to forcibly remount, call drive.mount(\"/content/drive\", force_remount=True).\n"
          ],
          "name": "stdout"
        }
      ]
    },
    {
      "cell_type": "code",
      "metadata": {
        "id": "blyt3CskCSU5"
      },
      "source": [
        "import tweepy\n",
        "from textblob import TextBlob\n",
        "from wordcloud import WordCloud\n",
        "import pandas as pd\n",
        "import numpy as np\n",
        "import re\n",
        "import matplotlib.pyplot as plt\n",
        "plt.style.use('fivethirtyeight')"
      ],
      "execution_count": 14,
      "outputs": []
    },
    {
      "cell_type": "code",
      "metadata": {
        "id": "uxiIsyOJCidA"
      },
      "source": [
        "# Twitter Api Credentials\n",
        "consumerKey = '1loLJsbQog2a3fIjBzgPLFtGz'\n",
        "consumerSecret = 'lUmzH57QsUIsYqTes2TCJxP6ajKqdvhWg88TUBu1uNx0A9Nqfq'\n",
        "accessToken = '1295662264440119296-wWjuXQ21YwnhnWCntJKLRHyUjrDmBb'\n",
        "accessTokenSecret = 'UwYTmdajrBoqYc6O8FV6FYFscNqEuYXaYIJugIE03BVuS'"
      ],
      "execution_count": 15,
      "outputs": []
    },
    {
      "cell_type": "code",
      "metadata": {
        "id": "Qoq9junwDOs_"
      },
      "source": [
        "# Create the authentication object\n",
        "authenticate = tweepy.OAuthHandler(consumerKey, consumerSecret) \n",
        "    \n",
        "# Set the access token and access token secret\n",
        "authenticate.set_access_token(accessToken, accessTokenSecret) \n",
        "    \n",
        "# Creating the API object while passing in auth information\n",
        "api = tweepy.API(authenticate, wait_on_rate_limit = True)"
      ],
      "execution_count": 16,
      "outputs": []
    },
    {
      "cell_type": "code",
      "metadata": {
        "colab": {
          "base_uri": "https://localhost:8080/"
        },
        "id": "gvaGAu0SDTpS",
        "outputId": "d37d8f0f-9ba4-4aaa-aaab-3b8a19432157"
      },
      "source": [
        "# Extract 100 tweets from the twitter user\n",
        "posts = api.user_timeline(screen_name=\"IPL\", count = 2000, lang =\"en\", tweet_mode=\"extended\")\n",
        "\n",
        "#  Print the last 5 tweets\n",
        "print(\"Show the 5 recent tweets:\\n\")\n",
        "i=1\n",
        "for tweet in posts[:5]:\n",
        "    print(str(i) +') '+ tweet.full_text + '\\n')\n",
        "    i= i+1"
      ],
      "execution_count": 81,
      "outputs": [
        {
          "output_type": "stream",
          "text": [
            "Show the 5 recent tweets:\n",
            "\n",
            "1) #VIVOIPL 2021 Anthem salutes the new, bold and confident spirit of India. Let’s all believe in #IndiaKaApnaMantra.\n",
            "\n",
            "Tell us what you think will be your team's Success Mantra this season.\n",
            "\n",
            "#VIVOIPL 2021 - Starts from April 9th !\n",
            "\n",
            "@Vivo_India @StarSportsIndia @DisneyPlusHS https://t.co/Um7UsCDCkY\n",
            "\n",
            "2) NEWS: BCCI announces Upstox as Official Partner for IPL\n",
            "\n",
            "#VIVOIPL @Vivo_India @upstox \n",
            "\n",
            "More details 👉 https://t.co/dGuoUxz8xZ https://t.co/BkAKDymL2Y\n",
            "\n",
            "3) The new Indian spirit that innovates, redefines &amp; achieves greatness is what #VIVOIPL is about!\n",
            "\n",
            "Whose mantra will bring success this time?\n",
            "\n",
            "Join us in celebrating #IndiaKaApnaMantra \n",
            "\n",
            "LIVE from Apr 9\n",
            "\n",
            "@Vivo_India, @StarSportsIndia &amp; @DisneyPlusHS https://t.co/Ii01eRXoX1\n",
            "\n",
            "4) #VIVOIPL salutes the new Indian spirit that is eager to innovate and rewrite the rulebook.\n",
            "\n",
            "Will history be created yet again this IPL?\n",
            "\n",
            "Join us in celebrating #IndiaKaApnaMantra \n",
            "\n",
            "LIVE from Apr 9\n",
            "\n",
            "@Vivo_India, @StarSportsIndia &amp; @DisneyPlusHS https://t.co/ZzYZaI95zh\n",
            "\n",
            "5) NEWS: Finn Allen signs up with @RCBTweets as replacement for Josh Philippe. @Vivo_India #VIVOIPL \n",
            "\n",
            "More details 👉 https://t.co/1Ws8gpwLsl https://t.co/OOpiIz8O5B\n",
            "\n"
          ],
          "name": "stdout"
        }
      ]
    },
    {
      "cell_type": "code",
      "metadata": {
        "colab": {
          "base_uri": "https://localhost:8080/",
          "height": 196
        },
        "id": "zhIOo0WXDbma",
        "outputId": "4a724a7c-74a7-4412-f3bc-8b0109f1a611"
      },
      "source": [
        "# Create a dataframe with a column called Tweets\n",
        "df = pd.DataFrame([tweet.full_text for tweet in posts], columns=['Tweets'])\n",
        "# Show the first 5 rows of data\n",
        "df.head()"
      ],
      "execution_count": 82,
      "outputs": [
        {
          "output_type": "execute_result",
          "data": {
            "text/html": [
              "<div>\n",
              "<style scoped>\n",
              "    .dataframe tbody tr th:only-of-type {\n",
              "        vertical-align: middle;\n",
              "    }\n",
              "\n",
              "    .dataframe tbody tr th {\n",
              "        vertical-align: top;\n",
              "    }\n",
              "\n",
              "    .dataframe thead th {\n",
              "        text-align: right;\n",
              "    }\n",
              "</style>\n",
              "<table border=\"1\" class=\"dataframe\">\n",
              "  <thead>\n",
              "    <tr style=\"text-align: right;\">\n",
              "      <th></th>\n",
              "      <th>Tweets</th>\n",
              "    </tr>\n",
              "  </thead>\n",
              "  <tbody>\n",
              "    <tr>\n",
              "      <th>0</th>\n",
              "      <td>#VIVOIPL 2021 Anthem salutes the new, bold and...</td>\n",
              "    </tr>\n",
              "    <tr>\n",
              "      <th>1</th>\n",
              "      <td>NEWS: BCCI announces Upstox as Official Partne...</td>\n",
              "    </tr>\n",
              "    <tr>\n",
              "      <th>2</th>\n",
              "      <td>The new Indian spirit that innovates, redefine...</td>\n",
              "    </tr>\n",
              "    <tr>\n",
              "      <th>3</th>\n",
              "      <td>#VIVOIPL salutes the new Indian spirit that is...</td>\n",
              "    </tr>\n",
              "    <tr>\n",
              "      <th>4</th>\n",
              "      <td>NEWS: Finn Allen signs up with @RCBTweets as r...</td>\n",
              "    </tr>\n",
              "  </tbody>\n",
              "</table>\n",
              "</div>"
            ],
            "text/plain": [
              "                                              Tweets\n",
              "0  #VIVOIPL 2021 Anthem salutes the new, bold and...\n",
              "1  NEWS: BCCI announces Upstox as Official Partne...\n",
              "2  The new Indian spirit that innovates, redefine...\n",
              "3  #VIVOIPL salutes the new Indian spirit that is...\n",
              "4  NEWS: Finn Allen signs up with @RCBTweets as r..."
            ]
          },
          "metadata": {
            "tags": []
          },
          "execution_count": 82
        }
      ]
    },
    {
      "cell_type": "code",
      "metadata": {
        "colab": {
          "base_uri": "https://localhost:8080/"
        },
        "id": "WCfz5PAqXW9R",
        "outputId": "ca82a719-6c61-4188-a56b-ec3cc1d0a616"
      },
      "source": [
        "df.shape"
      ],
      "execution_count": 83,
      "outputs": [
        {
          "output_type": "execute_result",
          "data": {
            "text/plain": [
              "(200, 1)"
            ]
          },
          "metadata": {
            "tags": []
          },
          "execution_count": 83
        }
      ]
    },
    {
      "cell_type": "code",
      "metadata": {
        "colab": {
          "base_uri": "https://localhost:8080/",
          "height": 196
        },
        "id": "KHRBy4q6DoZG",
        "outputId": "f439533c-99ee-4f75-90e1-f13d324f954e"
      },
      "source": [
        "# Create a dataframe with a column called Tweets\n",
        "df = pd.DataFrame([tweet.full_text for tweet in posts], columns=['Tweets'])\n",
        "# Show the first 5 rows of data\n",
        "df.head()"
      ],
      "execution_count": 84,
      "outputs": [
        {
          "output_type": "execute_result",
          "data": {
            "text/html": [
              "<div>\n",
              "<style scoped>\n",
              "    .dataframe tbody tr th:only-of-type {\n",
              "        vertical-align: middle;\n",
              "    }\n",
              "\n",
              "    .dataframe tbody tr th {\n",
              "        vertical-align: top;\n",
              "    }\n",
              "\n",
              "    .dataframe thead th {\n",
              "        text-align: right;\n",
              "    }\n",
              "</style>\n",
              "<table border=\"1\" class=\"dataframe\">\n",
              "  <thead>\n",
              "    <tr style=\"text-align: right;\">\n",
              "      <th></th>\n",
              "      <th>Tweets</th>\n",
              "    </tr>\n",
              "  </thead>\n",
              "  <tbody>\n",
              "    <tr>\n",
              "      <th>0</th>\n",
              "      <td>#VIVOIPL 2021 Anthem salutes the new, bold and...</td>\n",
              "    </tr>\n",
              "    <tr>\n",
              "      <th>1</th>\n",
              "      <td>NEWS: BCCI announces Upstox as Official Partne...</td>\n",
              "    </tr>\n",
              "    <tr>\n",
              "      <th>2</th>\n",
              "      <td>The new Indian spirit that innovates, redefine...</td>\n",
              "    </tr>\n",
              "    <tr>\n",
              "      <th>3</th>\n",
              "      <td>#VIVOIPL salutes the new Indian spirit that is...</td>\n",
              "    </tr>\n",
              "    <tr>\n",
              "      <th>4</th>\n",
              "      <td>NEWS: Finn Allen signs up with @RCBTweets as r...</td>\n",
              "    </tr>\n",
              "  </tbody>\n",
              "</table>\n",
              "</div>"
            ],
            "text/plain": [
              "                                              Tweets\n",
              "0  #VIVOIPL 2021 Anthem salutes the new, bold and...\n",
              "1  NEWS: BCCI announces Upstox as Official Partne...\n",
              "2  The new Indian spirit that innovates, redefine...\n",
              "3  #VIVOIPL salutes the new Indian spirit that is...\n",
              "4  NEWS: Finn Allen signs up with @RCBTweets as r..."
            ]
          },
          "metadata": {
            "tags": []
          },
          "execution_count": 84
        }
      ]
    },
    {
      "cell_type": "code",
      "metadata": {
        "colab": {
          "base_uri": "https://localhost:8080/",
          "height": 404
        },
        "id": "cnh-8IDUDugT",
        "outputId": "2ab7f676-468c-40c8-d0e0-7aa12bd2c415"
      },
      "source": [
        "# Create a function to clean the tweets\n",
        "def cleanTxt(text):\n",
        " text = re.sub('@[A-Za-z0–9]+', '', text) #Removing @mentions\n",
        " text = re.sub('#', '', text) # Removing '#' hash tag\n",
        " text = re.sub('RT[\\s]+', '', text) # Removing RT\n",
        " text = re.sub('https?:\\/\\/\\S+', '', text) # Removing hyperlink\n",
        " \n",
        " return text\n",
        "\n",
        "\n",
        "# Clean the tweets\n",
        "df['Tweets'] = df['Tweets'].apply(cleanTxt)\n",
        "\n",
        "# Show the cleaned tweets\n",
        "df"
      ],
      "execution_count": 85,
      "outputs": [
        {
          "output_type": "execute_result",
          "data": {
            "text/html": [
              "<div>\n",
              "<style scoped>\n",
              "    .dataframe tbody tr th:only-of-type {\n",
              "        vertical-align: middle;\n",
              "    }\n",
              "\n",
              "    .dataframe tbody tr th {\n",
              "        vertical-align: top;\n",
              "    }\n",
              "\n",
              "    .dataframe thead th {\n",
              "        text-align: right;\n",
              "    }\n",
              "</style>\n",
              "<table border=\"1\" class=\"dataframe\">\n",
              "  <thead>\n",
              "    <tr style=\"text-align: right;\">\n",
              "      <th></th>\n",
              "      <th>Tweets</th>\n",
              "    </tr>\n",
              "  </thead>\n",
              "  <tbody>\n",
              "    <tr>\n",
              "      <th>0</th>\n",
              "      <td>VIVOIPL 2021 Anthem salutes the new, bold and ...</td>\n",
              "    </tr>\n",
              "    <tr>\n",
              "      <th>1</th>\n",
              "      <td>NEWS: BCCI announces Upstox as Official Partne...</td>\n",
              "    </tr>\n",
              "    <tr>\n",
              "      <th>2</th>\n",
              "      <td>The new Indian spirit that innovates, redefine...</td>\n",
              "    </tr>\n",
              "    <tr>\n",
              "      <th>3</th>\n",
              "      <td>VIVOIPL salutes the new Indian spirit that is ...</td>\n",
              "    </tr>\n",
              "    <tr>\n",
              "      <th>4</th>\n",
              "      <td>NEWS: Finn Allen signs up with  as replacement...</td>\n",
              "    </tr>\n",
              "    <tr>\n",
              "      <th>...</th>\n",
              "      <td>...</td>\n",
              "    </tr>\n",
              "    <tr>\n",
              "      <th>195</th>\n",
              "      <td>Final. 8.3: P Dubey to R Sharma, 6 runs, 74/1 ...</td>\n",
              "    </tr>\n",
              "    <tr>\n",
              "      <th>196</th>\n",
              "      <td>At the end of the powerplay MumbaiIndians are ...</td>\n",
              "    </tr>\n",
              "    <tr>\n",
              "      <th>197</th>\n",
              "      <td>Final. 4.3: M Stoinis to S Yadav, 6 runs, 55/1...</td>\n",
              "    </tr>\n",
              "    <tr>\n",
              "      <th>198</th>\n",
              "      <td>Final. 4.2: M Stoinis to S Yadav, 4 runs, 49/1...</td>\n",
              "    </tr>\n",
              "    <tr>\n",
              "      <th>199</th>\n",
              "      <td>Final. 4.1: WICKET! Q de Kock (20) is out, c R...</td>\n",
              "    </tr>\n",
              "  </tbody>\n",
              "</table>\n",
              "<p>200 rows × 1 columns</p>\n",
              "</div>"
            ],
            "text/plain": [
              "                                                Tweets\n",
              "0    VIVOIPL 2021 Anthem salutes the new, bold and ...\n",
              "1    NEWS: BCCI announces Upstox as Official Partne...\n",
              "2    The new Indian spirit that innovates, redefine...\n",
              "3    VIVOIPL salutes the new Indian spirit that is ...\n",
              "4    NEWS: Finn Allen signs up with  as replacement...\n",
              "..                                                 ...\n",
              "195  Final. 8.3: P Dubey to R Sharma, 6 runs, 74/1 ...\n",
              "196  At the end of the powerplay MumbaiIndians are ...\n",
              "197  Final. 4.3: M Stoinis to S Yadav, 6 runs, 55/1...\n",
              "198  Final. 4.2: M Stoinis to S Yadav, 4 runs, 49/1...\n",
              "199  Final. 4.1: WICKET! Q de Kock (20) is out, c R...\n",
              "\n",
              "[200 rows x 1 columns]"
            ]
          },
          "metadata": {
            "tags": []
          },
          "execution_count": 85
        }
      ]
    },
    {
      "cell_type": "code",
      "metadata": {
        "colab": {
          "base_uri": "https://localhost:8080/",
          "height": 404
        },
        "id": "ajO6ulw6D0FE",
        "outputId": "a693d20f-16f0-4357-c2d6-60a6d7410915"
      },
      "source": [
        "# Create a function to get the subjectivity\n",
        "def getSubjectivity(text):\n",
        "   return TextBlob(text).sentiment.subjectivity\n",
        "\n",
        "# Create a function to get the polarity\n",
        "def getPolarity(text):\n",
        "   return  TextBlob(text).sentiment.polarity\n",
        "\n",
        "\n",
        "# Create two new columns 'Subjectivity' & 'Polarity'\n",
        "df['Subjectivity'] = df['Tweets'].apply(getSubjectivity)\n",
        "df['Polarity'] = df['Tweets'].apply(getPolarity)\n",
        "\n",
        "# Show the new dataframe with columns 'Subjectivity' & 'Polarity'\n",
        "df"
      ],
      "execution_count": 86,
      "outputs": [
        {
          "output_type": "execute_result",
          "data": {
            "text/html": [
              "<div>\n",
              "<style scoped>\n",
              "    .dataframe tbody tr th:only-of-type {\n",
              "        vertical-align: middle;\n",
              "    }\n",
              "\n",
              "    .dataframe tbody tr th {\n",
              "        vertical-align: top;\n",
              "    }\n",
              "\n",
              "    .dataframe thead th {\n",
              "        text-align: right;\n",
              "    }\n",
              "</style>\n",
              "<table border=\"1\" class=\"dataframe\">\n",
              "  <thead>\n",
              "    <tr style=\"text-align: right;\">\n",
              "      <th></th>\n",
              "      <th>Tweets</th>\n",
              "      <th>Subjectivity</th>\n",
              "      <th>Polarity</th>\n",
              "    </tr>\n",
              "  </thead>\n",
              "  <tbody>\n",
              "    <tr>\n",
              "      <th>0</th>\n",
              "      <td>VIVOIPL 2021 Anthem salutes the new, bold and ...</td>\n",
              "      <td>0.488636</td>\n",
              "      <td>0.336174</td>\n",
              "    </tr>\n",
              "    <tr>\n",
              "      <th>1</th>\n",
              "      <td>NEWS: BCCI announces Upstox as Official Partne...</td>\n",
              "      <td>0.500000</td>\n",
              "      <td>0.500000</td>\n",
              "    </tr>\n",
              "    <tr>\n",
              "      <th>2</th>\n",
              "      <td>The new Indian spirit that innovates, redefine...</td>\n",
              "      <td>0.318182</td>\n",
              "      <td>0.202273</td>\n",
              "    </tr>\n",
              "    <tr>\n",
              "      <th>3</th>\n",
              "      <td>VIVOIPL salutes the new Indian spirit that is ...</td>\n",
              "      <td>0.477273</td>\n",
              "      <td>0.136364</td>\n",
              "    </tr>\n",
              "    <tr>\n",
              "      <th>4</th>\n",
              "      <td>NEWS: Finn Allen signs up with  as replacement...</td>\n",
              "      <td>0.500000</td>\n",
              "      <td>0.500000</td>\n",
              "    </tr>\n",
              "    <tr>\n",
              "      <th>...</th>\n",
              "      <td>...</td>\n",
              "      <td>...</td>\n",
              "      <td>...</td>\n",
              "    </tr>\n",
              "    <tr>\n",
              "      <th>195</th>\n",
              "      <td>Final. 8.3: P Dubey to R Sharma, 6 runs, 74/1 ...</td>\n",
              "      <td>1.000000</td>\n",
              "      <td>0.375000</td>\n",
              "    </tr>\n",
              "    <tr>\n",
              "      <th>196</th>\n",
              "      <td>At the end of the powerplay MumbaiIndians are ...</td>\n",
              "      <td>0.750000</td>\n",
              "      <td>0.068182</td>\n",
              "    </tr>\n",
              "    <tr>\n",
              "      <th>197</th>\n",
              "      <td>Final. 4.3: M Stoinis to S Yadav, 6 runs, 55/1...</td>\n",
              "      <td>1.000000</td>\n",
              "      <td>0.000000</td>\n",
              "    </tr>\n",
              "    <tr>\n",
              "      <th>198</th>\n",
              "      <td>Final. 4.2: M Stoinis to S Yadav, 4 runs, 49/1...</td>\n",
              "      <td>1.000000</td>\n",
              "      <td>0.000000</td>\n",
              "    </tr>\n",
              "    <tr>\n",
              "      <th>199</th>\n",
              "      <td>Final. 4.1: WICKET! Q de Kock (20) is out, c R...</td>\n",
              "      <td>1.000000</td>\n",
              "      <td>0.000000</td>\n",
              "    </tr>\n",
              "  </tbody>\n",
              "</table>\n",
              "<p>200 rows × 3 columns</p>\n",
              "</div>"
            ],
            "text/plain": [
              "                                                Tweets  Subjectivity  Polarity\n",
              "0    VIVOIPL 2021 Anthem salutes the new, bold and ...      0.488636  0.336174\n",
              "1    NEWS: BCCI announces Upstox as Official Partne...      0.500000  0.500000\n",
              "2    The new Indian spirit that innovates, redefine...      0.318182  0.202273\n",
              "3    VIVOIPL salutes the new Indian spirit that is ...      0.477273  0.136364\n",
              "4    NEWS: Finn Allen signs up with  as replacement...      0.500000  0.500000\n",
              "..                                                 ...           ...       ...\n",
              "195  Final. 8.3: P Dubey to R Sharma, 6 runs, 74/1 ...      1.000000  0.375000\n",
              "196  At the end of the powerplay MumbaiIndians are ...      0.750000  0.068182\n",
              "197  Final. 4.3: M Stoinis to S Yadav, 6 runs, 55/1...      1.000000  0.000000\n",
              "198  Final. 4.2: M Stoinis to S Yadav, 4 runs, 49/1...      1.000000  0.000000\n",
              "199  Final. 4.1: WICKET! Q de Kock (20) is out, c R...      1.000000  0.000000\n",
              "\n",
              "[200 rows x 3 columns]"
            ]
          },
          "metadata": {
            "tags": []
          },
          "execution_count": 86
        }
      ]
    },
    {
      "cell_type": "code",
      "metadata": {
        "colab": {
          "base_uri": "https://localhost:8080/",
          "height": 256
        },
        "id": "S0NDFWTLD5-w",
        "outputId": "75f633ad-3de4-4189-b551-d3241c3ff340"
      },
      "source": [
        "# word cloud visualization\n",
        "allWords = ' '.join([twts for twts in df['Tweets']])\n",
        "wordCloud = WordCloud(width=500, height=300, random_state=21, max_font_size=110).generate(allWords)\n",
        "\n",
        "\n",
        "plt.imshow(wordCloud, interpolation=\"bilinear\")\n",
        "plt.axis('off')\n",
        "plt.show()"
      ],
      "execution_count": 87,
      "outputs": [
        {
          "output_type": "display_data",
          "data": {
            "image/png": "[encoded data removed]",
            "text/plain": [
              "<Figure size 432x288 with 1 Axes>"
            ]
          },
          "metadata": {
            "tags": []
          }
        }
      ]
    },
    {
      "cell_type": "code",
      "metadata": {
        "colab": {
          "base_uri": "https://localhost:8080/",
          "height": 404
        },
        "id": "8Mb3UxbID_t4",
        "outputId": "4e9e9606-f8a5-47ad-de11-77005f56c8a3"
      },
      "source": [
        "# Create a function to compute negative (-1), neutral (0) and positive (+1) analysis\n",
        "def getAnalysis(score):\n",
        "  if score <= 0:\n",
        "    return 'Negative'\n",
        "  else:\n",
        "    return 'Positive'\n",
        "df['Analysis'] = df['Polarity'].apply(getAnalysis)\n",
        "# Show the dataframe\n",
        "df"
      ],
      "execution_count": 90,
      "outputs": [
        {
          "output_type": "execute_result",
          "data": {
            "text/html": [
              "<div>\n",
              "<style scoped>\n",
              "    .dataframe tbody tr th:only-of-type {\n",
              "        vertical-align: middle;\n",
              "    }\n",
              "\n",
              "    .dataframe tbody tr th {\n",
              "        vertical-align: top;\n",
              "    }\n",
              "\n",
              "    .dataframe thead th {\n",
              "        text-align: right;\n",
              "    }\n",
              "</style>\n",
              "<table border=\"1\" class=\"dataframe\">\n",
              "  <thead>\n",
              "    <tr style=\"text-align: right;\">\n",
              "      <th></th>\n",
              "      <th>Tweets</th>\n",
              "      <th>Subjectivity</th>\n",
              "      <th>Polarity</th>\n",
              "      <th>Analysis</th>\n",
              "    </tr>\n",
              "  </thead>\n",
              "  <tbody>\n",
              "    <tr>\n",
              "      <th>0</th>\n",
              "      <td>VIVOIPL 2021 Anthem salutes the new, bold and ...</td>\n",
              "      <td>0.488636</td>\n",
              "      <td>0.336174</td>\n",
              "      <td>Positive</td>\n",
              "    </tr>\n",
              "    <tr>\n",
              "      <th>1</th>\n",
              "      <td>NEWS: BCCI announces Upstox as Official Partne...</td>\n",
              "      <td>0.500000</td>\n",
              "      <td>0.500000</td>\n",
              "      <td>Positive</td>\n",
              "    </tr>\n",
              "    <tr>\n",
              "      <th>2</th>\n",
              "      <td>The new Indian spirit that innovates, redefine...</td>\n",
              "      <td>0.318182</td>\n",
              "      <td>0.202273</td>\n",
              "      <td>Positive</td>\n",
              "    </tr>\n",
              "    <tr>\n",
              "      <th>3</th>\n",
              "      <td>VIVOIPL salutes the new Indian spirit that is ...</td>\n",
              "      <td>0.477273</td>\n",
              "      <td>0.136364</td>\n",
              "      <td>Positive</td>\n",
              "    </tr>\n",
              "    <tr>\n",
              "      <th>4</th>\n",
              "      <td>NEWS: Finn Allen signs up with  as replacement...</td>\n",
              "      <td>0.500000</td>\n",
              "      <td>0.500000</td>\n",
              "      <td>Positive</td>\n",
              "    </tr>\n",
              "    <tr>\n",
              "      <th>...</th>\n",
              "      <td>...</td>\n",
              "      <td>...</td>\n",
              "      <td>...</td>\n",
              "      <td>...</td>\n",
              "    </tr>\n",
              "    <tr>\n",
              "      <th>195</th>\n",
              "      <td>Final. 8.3: P Dubey to R Sharma, 6 runs, 74/1 ...</td>\n",
              "      <td>1.000000</td>\n",
              "      <td>0.375000</td>\n",
              "      <td>Positive</td>\n",
              "    </tr>\n",
              "    <tr>\n",
              "      <th>196</th>\n",
              "      <td>At the end of the powerplay MumbaiIndians are ...</td>\n",
              "      <td>0.750000</td>\n",
              "      <td>0.068182</td>\n",
              "      <td>Positive</td>\n",
              "    </tr>\n",
              "    <tr>\n",
              "      <th>197</th>\n",
              "      <td>Final. 4.3: M Stoinis to S Yadav, 6 runs, 55/1...</td>\n",
              "      <td>1.000000</td>\n",
              "      <td>0.000000</td>\n",
              "      <td>Negative</td>\n",
              "    </tr>\n",
              "    <tr>\n",
              "      <th>198</th>\n",
              "      <td>Final. 4.2: M Stoinis to S Yadav, 4 runs, 49/1...</td>\n",
              "      <td>1.000000</td>\n",
              "      <td>0.000000</td>\n",
              "      <td>Negative</td>\n",
              "    </tr>\n",
              "    <tr>\n",
              "      <th>199</th>\n",
              "      <td>Final. 4.1: WICKET! Q de Kock (20) is out, c R...</td>\n",
              "      <td>1.000000</td>\n",
              "      <td>0.000000</td>\n",
              "      <td>Negative</td>\n",
              "    </tr>\n",
              "  </tbody>\n",
              "</table>\n",
              "<p>200 rows × 4 columns</p>\n",
              "</div>"
            ],
            "text/plain": [
              "                                                Tweets  ...  Analysis\n",
              "0    VIVOIPL 2021 Anthem salutes the new, bold and ...  ...  Positive\n",
              "1    NEWS: BCCI announces Upstox as Official Partne...  ...  Positive\n",
              "2    The new Indian spirit that innovates, redefine...  ...  Positive\n",
              "3    VIVOIPL salutes the new Indian spirit that is ...  ...  Positive\n",
              "4    NEWS: Finn Allen signs up with  as replacement...  ...  Positive\n",
              "..                                                 ...  ...       ...\n",
              "195  Final. 8.3: P Dubey to R Sharma, 6 runs, 74/1 ...  ...  Positive\n",
              "196  At the end of the powerplay MumbaiIndians are ...  ...  Positive\n",
              "197  Final. 4.3: M Stoinis to S Yadav, 6 runs, 55/1...  ...  Negative\n",
              "198  Final. 4.2: M Stoinis to S Yadav, 4 runs, 49/1...  ...  Negative\n",
              "199  Final. 4.1: WICKET! Q de Kock (20) is out, c R...  ...  Negative\n",
              "\n",
              "[200 rows x 4 columns]"
            ]
          },
          "metadata": {
            "tags": []
          },
          "execution_count": 90
        }
      ]
    },
    {
      "cell_type": "code",
      "metadata": {
        "colab": {
          "base_uri": "https://localhost:8080/"
        },
        "id": "-AimEnSmEGP1",
        "outputId": "94d28d4a-ae31-46b1-94d9-296f5a30877b"
      },
      "source": [
        "# Printing positive tweets \n",
        "print('Printing positive tweets:\\n')\n",
        "j=1\n",
        "sortedDF = df.sort_values(by=['Polarity']) #Sort the tweets\n",
        "for i in range(0, sortedDF.shape[0] ):\n",
        "  if( sortedDF['Analysis'][i] == 'Positive'):\n",
        "    print(str(j) + ') '+ sortedDF['Tweets'][i])\n",
        "    print()\n",
        "    j= j+1"
      ],
      "execution_count": 91,
      "outputs": [
        {
          "output_type": "stream",
          "text": [
            "Printing positive tweets:\n",
            "\n",
            "1) VIVOIPL 2021 Anthem salutes the new, bold and confident spirit of India. Let’s all believe in IndiaKaApnaMantra.\n",
            "\n",
            "Tell us what you think will be your team's Success Mantra this season.\n",
            "\n",
            "VIVOIPL 2021 - Starts from April 9th !\n",
            "\n",
            "_India   \n",
            "\n",
            "2) NEWS: BCCI announces Upstox as Official Partner for IPL\n",
            "\n",
            "VIVOIPL _India  \n",
            "\n",
            "More details 👉  \n",
            "\n",
            "3) The new Indian spirit that innovates, redefines &amp; achieves greatness is what VIVOIPL is about!\n",
            "\n",
            "Whose mantra will bring success this time?\n",
            "\n",
            "Join us in celebrating IndiaKaApnaMantra \n",
            "\n",
            "LIVE from Apr 9\n",
            "\n",
            "_India,  &amp;  \n",
            "\n",
            "4) VIVOIPL salutes the new Indian spirit that is eager to innovate and rewrite the rulebook.\n",
            "\n",
            "Will history be created yet again this IPL?\n",
            "\n",
            "Join us in celebrating IndiaKaApnaMantra \n",
            "\n",
            "LIVE from Apr 9\n",
            "\n",
            "_India,  &amp;  \n",
            "\n",
            "5) NEWS: Finn Allen signs up with  as replacement for Josh Philippe. _India VIVOIPL \n",
            "\n",
            "More details 👉  \n",
            "\n",
            "6) VIVOIPL is back in India 🇮🇳 🙌\n",
            "\n",
            "Time to circle your favorite matches on the calendar 🗓️\n",
            "\n",
            "Which clashes are you looking forward to the most? 🤔 \n",
            "\n",
            "7) 🚨  BCCI announces schedule for VIVO IPL 2021 🚨\n",
            "\n",
            "The season will kickstart on 9th April in Chennai and the final will take place on May 30th at the Narendra Modi Stadium, Ahmedabad.\n",
            "\n",
            "More details here -  VIVOIPL \n",
            "\n",
            "8) 🗣️🗣️ 'It's a dream come true moment for me.'\n",
            "\n",
            "Picked for a massive INR 9.25 crore by  in the _India IPLAuction, 88 is looking forward to playing alongside his idol - the legendary . 👏💛\n",
            "\n",
            "Watch the full interview 🎥👇\n",
            " \n",
            "\n",
            "9) Jalaj Saxena is the first player to go under the hammer after the break &amp; he is sold to  for 30L _India IPLAuction\n",
            "\n",
            "10) From Chris Morris to K Gowtham, here are the Top 5 Buys from the _India IPLAuction so far. 👇 \n",
            "\n",
            "11) WOW! 👍👍\n",
            "\n",
            "Kyle Jamieson will join  for a whopping amount of INR 15 Cr. _India IPLAuction\n",
            "\n",
            "12) Safe to say, the man from New Zealand is attracting some interest. _India IPLAuction\n",
            "\n",
            "13) When you get a certain \"Shahrukh Khan\" in your side 😉😉  _India IPLAuction \n",
            "\n",
            "14) He goes to  for 5.25Cr INR _India IPLAuction - WOW\n",
            "\n",
            "15) . win the bidding war to bring Adam Milne on board for INR 3.2 Cr. 👌👌\n",
            "\n",
            "_India IPLAuction\n",
            "\n",
            "16) After an intense bidding war, _Morris heads to  for INR 16.25 Cr. 😎🔥\n",
            "\n",
            "_India IPLAuction\n",
            "\n",
            "17)  winning the bid race &amp; he will now don the yellow 💛 - Moeen Ali is SOLD for 7Cr INR _India IPLAuction\n",
            "\n",
            "18) Chennai Super Kings get into the fray for Glenn Maxwell 😯 - their current bid 6Cr INR IPLAuction\n",
            "\n",
            "19) First player under the hammer in SET 1 - Karun Nair IPLAuction - His opening bid is 50L INR\n",
            "\n",
            "20) 20 Minutes to GO 😎🕰️\n",
            "Are you all ready for the VIVO IPL 2021 Player Auction? \n",
            "We cannot contain our excitement levels, can you 😃 IPLAuction \n",
            "\n",
            "21) Stage set for VIVO IPLAuction 2021 🤩🤩\n",
            "\n",
            "8️⃣ franchises to bid for some of the best players in the world in a few hours from now💥💥\n",
            "\n",
            "Are you ready? \n",
            "\n",
            "22) ALERT🚨: VIVO IPL 2021 Player Auction list announced\n",
            "\n",
            "2⃣9⃣2⃣ players set to go under the hammer in Chennai on February 18, 2021 😎\n",
            "\n",
            "More details 👉  \n",
            "\n",
            "23) NEWS 🚨: 1097 players register for IPL 2021 Player Auction \n",
            "\n",
            "More details👉  \n",
            "\n",
            "24) 🚨ALERT🚨: IPL 2021 Player Auction on 18th February🗓️\n",
            "\n",
            "Venue 📍: Chennai \n",
            "\n",
            "How excited are you for this year's Player Auction? 😎👍\n",
            "\n",
            "Set your reminder folks 🕰️ \n",
            "\n",
            "25) 🚨NEWS🚨 - 𝐈𝐏𝐋 𝟐𝟎𝟐𝟏 𝐏𝐥𝐚𝐲𝐞𝐫 𝐫𝐞𝐭𝐞𝐧𝐭𝐢𝐨𝐧𝐬\n",
            "\n",
            "No of players retained by the franchises - 1⃣3⃣9⃣\n",
            "No of players released - 5⃣7⃣\n",
            "\n",
            "More details 👇\n",
            "\n",
            "26) Howzzaat! Dream11 IPL 🏆 emerges as Top Google Trend 📈 of 2020 in India 🇮🇳, also ranked No.5 Globally 🌏\n",
            "\n",
            "More details here 👉👉   \n",
            "\n",
            "27) Most fours in IPL 👍\n",
            "Only batsman to score 2 successive IPL tons 👌\n",
            "\n",
            "Here's wishing Delhi Capitals' 25 a very happy birthday. 🎂👏\n",
            "\n",
            "Let's relive his match-winning ton vs CSK 🎥👇\n",
            "\n",
            "28) 🔶 Most hat-tricks in IPL \n",
            "🔶 Leading Indian wicket-taker in IPL\n",
            "\n",
            "Here's wishing  a very happy birthday 🎂👏 \n",
            "\n",
            "29) 45: Have to admire the commitment &amp; discipline shown by  and  crew for the smooth and safe conduct of the IPL2020. Also a…\n",
            "\n",
            "30) Best IPL score by an Indian, two successive hundreds, stunning saves and  lifting the trophy 🏆 for the fifth time. \n",
            "\n",
            "Watch some of the riveting performances that kept us hooked throughout the Dream11IPL. \n",
            "\n",
            "Video Link 👉  \n",
            "\n",
            "31) The only team and the captain to win 5⃣ IPL titles 🔝👌\n",
            "\n",
            "Congratulations to  and 45  👊💪\n",
            "\n",
            "Dream11IPL \n",
            "\n",
            "32) .'s Mr. Consistent, 11 notched 9️⃣7️⃣6️⃣ IPL Fantasy Points and he is the 11 GameChanger of the Season 👏👏👌🏻\n",
            "\n",
            "Dream11IPL \n",
            "\n",
            "33) Happy that we gave people something to cheer for: ' five-time IPL winning captain 45  👏🙌🏆\n",
            "\n",
            "Dream11IPL Final MIvDC \n",
            "\n",
            "34) Skipper 15 thanks all the  fans for their support 🙌🙌\n",
            " \n",
            "Dream11IPL \n",
            "\n",
            "35) Altroz Super Striker of the Final between  and  is Ishan Kishan. \n",
            "\n",
            "_Cars AltrozSuperStriker Dream11IPL \n",
            "\n",
            "36) Dream11 GameChanger of the Final between   and  is Rohit Sharma.\n",
            "\n",
            "11 YeApnaGameHai Dream11IPL \n",
            "\n",
            "37) : Yet another incredible game of an outstanding tournament.\n",
            "\n",
            "Unbelievable display of skills under pressure. \n",
            "\n",
            "IPL2K20 has been…\n",
            "\n",
            "38) A very well deserved Man of the Match award for _boult 👏👏\n",
            "\n",
            "Dream11IPL Final \n",
            "\n",
            "39) MumbaiIndians win the  Fair Play Award for Dream11IPL 2020 \n",
            "\n",
            "40) MumbaiIndians WIN Dream11IPL 2020 \n",
            "\n",
            "41) Final. 15.3: P Dubey to I Kishan, 4 runs, 135/2  MIvDC Dream11IPL IPL2020\n",
            "\n",
            "42) Final. 15.2: P Dubey to I Kishan, 4 runs, 131/2  MIvDC Dream11IPL IPL2020\n",
            "\n",
            "43) Final. 8.5: P Dubey to R Sharma, 6 runs, 80/1  MIvDC Dream11IPL IPL2020\n",
            "\n",
            "44) Final. 8.3: P Dubey to R Sharma, 6 runs, 74/1  MIvDC Dream11IPL IPL2020\n",
            "\n",
            "45) At the end of the powerplay MumbaiIndians are 61/1.\n",
            "\n",
            "Live -  Dream11IPL Final \n",
            "\n"
          ],
          "name": "stdout"
        }
      ]
    },
    {
      "cell_type": "code",
      "metadata": {
        "colab": {
          "base_uri": "https://localhost:8080/"
        },
        "id": "akBrInGBEQ_Z",
        "outputId": "b5c2b099-f11e-4de2-ee23-0ab097dfa1ee"
      },
      "source": [
        "# Printing negative tweets  \n",
        "print('Printing negative tweets:\\n')\n",
        "j=1\n",
        "sortedDF = df.sort_values(by=['Polarity'],ascending=False) #Sort the tweets\n",
        "for i in range(0, sortedDF.shape[0] ):\n",
        "  if( sortedDF['Analysis'][i] == 'Negative'):\n",
        "    print(str(j) + ') '+sortedDF['Tweets'][i])\n",
        "    print()\n",
        "    j=j+1"
      ],
      "execution_count": 92,
      "outputs": [
        {
          "output_type": "stream",
          "text": [
            "Printing negative tweets:\n",
            "\n",
            "1) Check out how , ,  &amp;  stack up after the _India IPLAuction 2⃣0⃣2⃣1⃣ 👍 👇 \n",
            "\n",
            "2) Here's how the , ,   &amp;  squads look after the _India IPLAuction 2⃣0⃣2⃣1⃣ 👇 \n",
            "\n",
            "3) How's that for numbers 💥💥\n",
            "\n",
            "Here are the 🔝5️⃣ buys in the _India IPLAuction \n",
            "\n",
            "4) Arjun Tendulkar joins  for INR 20 Lac. \n",
            "\n",
            "_India IPLAuction\n",
            "\n",
            "5) Akash Singh sold to  for INR 20 Lac.\n",
            "\n",
            "_India IPLAuction\n",
            "\n",
            "6) Pawan Negi sold to  for INR 50 Lac.\n",
            "\n",
            "_India IPLAuction\n",
            "\n",
            "7) Venkatesh Iyer sold to  for INR 20 Lac.\n",
            "\n",
            "_India IPLAuction\n",
            "\n",
            "8) Hanuma Vihari goes UNSOLD _India IPLAuction\n",
            "\n",
            "9) Ben Cutting moves to  for INR 75 Lac. \n",
            "\n",
            "_India IPLAuction\n",
            "\n",
            "10) Karun Nair joins  for INR 50 Lac. \n",
            "\n",
            "_India IPLAuction\n",
            "\n",
            "11) Mujeeb Ur Rahman is SOLD to   for INR 1.50 Cr.\n",
            "\n",
            "_India IPLAuction\n",
            "\n",
            "12) C Hari Nishanth joins  for INR 20 Lac. \n",
            "\n",
            "_India IPLAuction\n",
            "\n",
            "13) ._singh moves to  for INR 2 Cr. \n",
            "\n",
            "_India IPLAuction\n",
            "\n",
            "14) Sam Billings joins  for INR 2 Cr. \n",
            "\n",
            "_India IPLAuction\n",
            "\n",
            "15) . joins  for INR 2 Cr. \n",
            "\n",
            "_India IPLAuction\n",
            "\n",
            "16) K Bhagath Varma sold to  for INR 20 Lac. _India IPLAuction\n",
            "\n",
            "17) Saurabh Kumar SOLD to  for INR 20 Lac. \n",
            "\n",
            "_India IPLAuction\n",
            "\n",
            "18) Marco Jansen sold to  for INR 20 Lac. _India IPLAuction\n",
            "\n",
            "19) Yudhvir Charak SOLD to  for INR 20 Lac. _India IPLAuction\n",
            "\n",
            "20) George Linde and Chaitanya Bishnoi are UNSOLD. _India IPLAuction\n",
            "\n",
            "21) Chris Green and Isuru Udana remain UNSOLD. _India IPLAuction\n",
            "\n",
            "22) James Neesham joins  for INR 50 Lac. _India IPLAuction\n",
            "\n",
            "23) Scott Kuggeleijn goes UNSOLD. _India IPLAuction\n",
            "\n",
            "24) Kuldip Yadav joins  for INR 20 Lac. _India IPLAuction\n",
            "\n",
            "25) M Harisankar Reddy sold to  for INR 20 Lac. _India IPLAuction\n",
            "\n",
            "26) Josh Inglis and Simarjeet Singh go unsold. _India IPLAuction\n",
            "\n",
            "27) Suyash Prabhudessai and K S Bharat SOLD to  for INR 20 Lac each. _India IPLAuction\n",
            "\n",
            "28) Prerak Mankad goes UNSOLD. _India IPLAuction\n",
            "\n",
            "29) Siddhesh Lad is UNSOLD. _India IPLAuction\n",
            "\n",
            "30) Matthew Wade and Sean Abbott remain UNSOLD. _India IPLAuction\n",
            "\n",
            "31) Ben McDermott goes UNSOLD. _India IPLAuction\n",
            "\n",
            "32) Liam Livingstone is SOLD to  for INR 75 Lac. \n",
            "\n",
            "_India IPLAuction\n",
            "\n",
            "33) Daniel Christian is SOLD to  for 4.8Cr INR _India IPLAuction\n",
            "\n",
            "34) Daniel Christian with a base price of 75L INR gets the opening bid from RCB and get into a bidding war with KKR _India IPLAuction\n",
            "\n",
            "35) Fabian Allen gets the opening bid from  and is SOLD for 75L INR _India IPLAuction\n",
            "\n",
            "36) G Periyasamy also goes UNSOLD _India IPLAuction\n",
            "\n",
            "37) Ben Dwarshuis goes UNSOLD _India IPLAuction\n",
            "\n",
            "38) Vaibhav Arora under the hammer and he is SOLD to  for 20L INR IPLAuction\n",
            "\n",
            "39) K.L Shrijith is next &amp; gets no bids. He is UNSOLD _India IPLAuction\n",
            "\n",
            "40) All-rounder Utkarsh Singh with a base price of 20L goes to  _India IPLAuction\n",
            "\n",
            "41) Karan Sharma is next &amp; he goes UNSOLD _India IPLAuction\n",
            "\n",
            "42) Jalaj Saxena joins  for INR 30 Lac. \n",
            "\n",
            "_India IPLAuction\n",
            "\n",
            "43) . bring England's 59 on board for INR 5.25 Cr. 👌👌\n",
            "\n",
            "_India IPLAuction \n",
            "\n",
            "44) A round of applause 👏🏻 at the _India IPLAuction as 1 is SOLD to . \n",
            "\n",
            "45) Mitchell McClenaghan &amp; Jason Behrendorff remain UNSOLD. _India IPLAuction\n",
            "\n",
            "46) Base Price - INR 75 Lac\n",
            "Sold for - INR 15 Cr\n",
            "\n",
            "Kiwi 🇳🇿 pacer Kyle Jamieson heads to  😎🤙🏻\n",
            "\n",
            "_India IPLAuction \n",
            "\n",
            "47) Moises Henriques joins  for INR 4.20 Cr.\n",
            "\n",
            "_India IPLAuction\n",
            "\n",
            "48) .59 moves to  for INR 5.25 Cr. \n",
            "\n",
            "_India IPLAuction\n",
            "\n",
            "49) Tom Curran is up for grabs NOW! _India IPLAuction\n",
            "\n",
            "50) Ben Cutting goes UNSOLD! _India IPLAuction\n",
            "\n",
            "51) Which team will acquire his services? 🤔🤔\n",
            "\n",
            "_India IPLAuction\n",
            "\n",
            "52) Kyle Jamieson is going under the hammer. \n",
            "\n",
            "_India IPLAuction\n",
            "\n",
            "53) Pawan Negi goes UNSOLD. _India IPLAuction\n",
            "\n",
            "54) Martin Guptill remains UNSOLD. _India IPLAuction\n",
            "\n",
            "55) . bring 1 on board for INR 50 Lac. \n",
            "\n",
            "_India IPLAuction\n",
            "\n",
            "56) Rassie van der Dussen is UNSOLD. \n",
            "\n",
            "_India IPLAuction\n",
            "\n",
            "57) Devon Conway &amp; Darren Bravo remain UNSOLD. \n",
            "\n",
            "_India IPLAuction\n",
            "\n",
            "58) Rovman Powell, Shaun Marsh and Corey Anderson go UNSOLD. \n",
            "\n",
            "_India IPLAuction\n",
            "\n",
            "59) Rovman Powell goes UNSOLD _India IPLAuction\n",
            "\n",
            "60) When _Morris went BIG &amp; got SOLD to  for a whopping 16.25 Crore\n",
            "\n",
            "Click here  to watch the bidding war _India IPLAuction\n",
            "\n",
            "61) Riley Meredith makes merry at the IPLAuction &amp; moves to  for INR 8 Cr. 👏👏\n",
            "\n",
            "_India \n",
            "\n",
            "62) K C Cariappa SOLD to  for INR 20 Lac. \n",
            "\n",
            "_India IPLAuction\n",
            "\n",
            "63) J Suchith moves to  for INR 30 Lac. \n",
            "\n",
            "_India IPLAuction\n",
            "\n",
            "64) M Siddharth SOLD to  for INR 20 Lac. \n",
            "\n",
            "_India IPLAuction\n",
            "\n",
            "65) Riley Meredith SOLD to  for a whopping INR 8 Cr. 👌👌\n",
            "\n",
            "_India IPLAuction\n",
            "\n",
            "66) After a three-team bidding war, K Gowtham joined  for INR 9.25 Cr. ⚡️⚡️\n",
            "\n",
            "_India IPLAuction \n",
            "\n",
            "67) Chetan Sakariya, who had a base price of INR 20 Lac, is SOLD to  for INR 1.20 Cr. \n",
            "\n",
            "_India IPLAuction\n",
            "\n",
            "68) Lukman Meriwala SOLD to  for INR 20 Lac. \n",
            "\n",
            "_India IPLAuction\n",
            "\n",
            "69) Shahrukh Khan earns big and how! 👍\n",
            "\n",
            "He joins  for INR 5.25 Cr. _India IPLAuction \n",
            "\n",
            "70) Avi Barot is UNSOLD _India IPLAuction\n",
            "\n",
            "71) Mohammed Azharuddeen goes to  for 20L INR _India IPLAuction\n",
            "\n",
            "72) Kedar Devdhar is UNSOLD _India IPLAuction\n",
            "\n",
            "73) Sheldon Jackson is sold to  for his opening bid for 20L INR _India IPLAuction\n",
            "\n",
            "74) Vishnu Vinod is up next &amp; he is SOLD to  for 20L _India IPLAuction\n",
            "\n",
            "75) Vivek Singh goes UNSOLD _India IPLAuction\n",
            "\n",
            "76) The bidding was ON between KKR, CSK &amp; SRH. K Gowtham's base price was 20L INR &amp; his bid reached 9.25Cr INR - He is SOLD to  _India IPLAuction\n",
            "\n",
            "77) All-rounder K Gowtham goes under the hammer &amp; KKR open the bidding _India IPLAuction\n",
            "\n",
            "78) Next Bid - Venkatesh Iyer &amp; he goes UNSOLD _India IPLAuction\n",
            "\n",
            "79) Ayush Badoni goes UNSOLD _India IPLAuction\n",
            "\n",
            "80) Shahrukh Khan, with a base price of 20 Lac, is attracting interest at the IPLAuction. _India\n",
            "\n",
            "81) Ripal Patel sold to  for INR 20 Lac. \n",
            "\n",
            "_India IPLAuction\n",
            "\n",
            "82) Rajat Patidar SOLD for INR 20 Lac to . \n",
            "\n",
            "_India IPLAuction\n",
            "\n",
            "83) Sachin Baby SOLD to  for INR 20 Lac. \n",
            "\n",
            "_India IPLAuction\n",
            "\n",
            "84) Piyush Chawla heads to  for INR 2.40 Cr. \n",
            "\n",
            "_India IPLAuction\n",
            "\n",
            "85) Did you folks see this coming? 🔥🔥\n",
            "Massive buy from  👏👏 \n",
            "\n",
            "_India IPLAuction \n",
            "\n",
            "86) Harbhajan Singh goes unsold. IPLAuction _India\n",
            "\n",
            "87) ._umesh heads to  for INR 1 Cr. \n",
            "\n",
            "_India IPLAuction\n",
            "\n",
            "88) Left-arm pacer Sheldon Cottrell goes unsold. \n",
            "\n",
            "_India IPLAuction\n",
            "\n",
            "89) Nathan Coulter-Nile is sold to  for INR  5 Cr. \n",
            "\n",
            "_India IPLAuction\n",
            "\n",
            "90) Jhye Richardson, the right-arm pacer, heads to  for INR 14 Cr. 🔥🔥\n",
            "\n",
            "_India IPLAuction\n",
            "\n",
            "91) Jhye Richardson, base price of INR 1.5 Cr, is attracting a lot of interest. \n",
            "\n",
            "Which team will acquire his services? 🤔🤔\n",
            "\n",
            "_India IPLAuction\n",
            "\n",
            "92) Mustafizur Rahman is sold to  for INR 1 Cr. _India IPLAuction\n",
            "\n",
            "93) Adam Milne is now going under the hammer! \n",
            "\n",
            "_India IPLAuction\n",
            "\n",
            "94) We are back after the break! \n",
            "\n",
            "Alex Carey, Sam Billings and Kusal Perera go unsold. _India IPLAuction\n",
            "\n",
            "95) . acquire 29 for INR 1.5 Cr. _India IPLAuction \n",
            "\n",
            "96) Base price - INR 75 Lac\n",
            "Sold for - INR 16.25 Cr\n",
            "\n",
            " win the bidding war to bring _Morris on board. 🔥🔥\n",
            "\n",
            "_India IPLAuction \n",
            "\n",
            "97) .29 moves to  for INR 1.50 Cr. _India IPLAuction\n",
            "\n",
            "98) Shivam Dube goes to  for INR 4.4 Cr at the _India IPLAuction. \n",
            "\n",
            "99) Chris Morris is UP NEXT - Bidding war begins between Mumbai Indians &amp; RCB _India IPLAuction\n",
            "\n",
            "100) Moeen Ali will now don the Yellow 💛 after  acquire his services for INR 7 Cr. \n",
            "\n",
            "_India IPLAuction \n",
            "\n",
            "101) Shivam Dube is next - He is SOLD to  for 4.4Cr INR _India IPLAuction\n",
            "\n",
            "102) . bring 75official on board for INR 3.2 Cr. \n",
            "\n",
            "_India IPLAuction \n",
            "\n",
            "103) All-rounder Moeen Ali is next &amp; his opening bid is 2Cr INR. Punjab Kings &amp; CSK get into the bid _India IPLAuction\n",
            "\n",
            "104) Base Price - INR 2 Crore\n",
            "Sold for - INR 14.25 Crore\n",
            "\n",
            "_32 heads to  after a fierce bidding war. 😎🔥 _India IPLAuction \n",
            "\n",
            "105) Shakib is SOLD to  3.2Cr INR _India IPLAuction\n",
            "\n",
            "106) .49 moves to  for INR 2.20 Cr. \n",
            "\n",
            "_India IPLAuction \n",
            "\n",
            "107) Shakib Al Hasan is next &amp; his opening bid is for 2Cr INR. KKR &amp; Punjab Kings enter the fray _India IPLAuction\n",
            "\n",
            "108) Kedar Jadhav is up next &amp; he goes UNSOLD _India IPLAuction\n",
            "\n",
            "109) After a battle of the bids between CSK &amp; RCB, Glenn Maxwell is SOLD to  for 14.25 Cr INR 😯🔥💥_India IPLAuction\n",
            "\n",
            "110) Fierce bidding between Kolkata Knight Riders &amp; RCB at the moment 🔥🔥 IPLAuction\n",
            "\n",
            "111) Glenn Maxwell goes under the hammer and his opening bid is 2 Cr INR. The opening bid comes from  IPLAuction\n",
            "\n",
            "112) Hanuma Vihari is next. His opening bid is for 1 Cr INR &amp; he goes UNSOLD IPLAuction\n",
            "\n",
            "113) Aaron Finch is next under the hammer - His opening bid is for 1Cr INR &amp; he goes UNSOLD IPLAuction\n",
            "\n",
            "114) UP NEXT - Evin Lewis for 1Cr INR. Lewis goes UNSOLD IPLAuction\n",
            "\n",
            "115) RCB had an opening bid, but Delhi Capitals have entered the bidding and he is SOLD to  for 2.2Cr INR IPLAuction\n",
            "\n",
            "116) Steve Smith is up next and his opening bid is 2 Cr INR  IPLAuction\n",
            "\n",
            "117) Jason Roy is up next and his opening bid is 2 Cr INR IPLAuction &amp; he goes UNSOLD\n",
            "\n",
            "118) Alex Hales goes unsold IPLAuction\n",
            "\n",
            "119) Second player under the hammer in SET 1 - Alex Hales IPLAuction - His opening bid is 1.50Cr INR\n",
            "\n",
            "120) And he goes unsold IPLAuction\n",
            "\n",
            "121) It is time for the VIVO IPL 2021 IPLAuction to get underway - GET SET GO! \n",
            "\n",
            "122) Trophy in all its glory 🏆😎 IPLAuction \n",
            "\n",
            "123) 📸📸 Snapshots from the 2️⃣0️⃣2️⃣1️⃣ VIVO IPL Player Auction Briefing here in Chennai. IPLAuction \n",
            "\n",
            "124) : Nave andaaz hor wakhre josh de naal 🎺\n",
            "swagat karo PunjabKings da 💥👑🤩\n",
            "\n",
            "SaddaPunjab \n",
            "\n",
            "125) Franchises briefed ✅\n",
            "Rules explained ✅\n",
            "Players set to go under the hammer ✅\n",
            "\n",
            "Just one sleep away from VIVO IPLAuction 2021 🙌🤙 \n",
            "\n",
            "126) Big Names, Big Draws in VIVO IPLAuction 2021! 👌\n",
            "\n",
            "How will these players fare? 🤔 \n",
            "\n",
            "127) : Which superstars will be retained by their IPL teams? 🤔\n",
            "\n",
            "Share your picks 👇 and catch 𝐭𝐡𝐞 𝐛𝐢𝐠 𝐫𝐞𝐯𝐞𝐚𝐥 𝐨𝐟 𝐭𝐡𝐞 𝐫𝐞𝐭𝐞𝐧𝐭𝐢𝐨𝐧…\n",
            "\n",
            "128) Presenting the Orange Cap and Purple Cap winners of the Dream11IPL.\n",
            "\n",
            "Congratulations to 11 and 25  👏🔝💪 \n",
            "\n",
            "129) 1️⃣5️⃣ matches\n",
            "4️⃣7️⃣3️⃣ runs\n",
            "5⃣ Half-centuries\n",
            "7️⃣4️⃣ - Highest Score\n",
            "\n",
            "7 is Emerging Player of the Dream11IPL💪 \n",
            "\n",
            "130) Unacademy Lets Crack It Sixes of the Final award goes to Rohit Sharma.\n",
            " \n",
            " LetsCrackIt Dream11IPL \n",
            "\n",
            "131) CRED Power Player of the Final between  and  is Trent Boult.\n",
            "\n",
            "_club CREDPowerplay Dream11IPL \n",
            "\n",
            "132) .45's message to the MumbaiIndians fans 🙌🙌\n",
            "\n",
            "Dream11IPL \n",
            "\n",
            "133) Ladies and Gentlemen, presenting to you FIVE TIME IPL CHAMPIONS - MumbaiIndians \n",
            "\n",
            "Dream11IPL \n",
            "\n",
            "134) .45 lifting the IPL trophy for the FIFTH time for MumbaiIndians \n",
            "\n",
            "Dream11IPL Final \n",
            "\n",
            "135) CHAMPIONS!! \n",
            "\n",
            "MumbaiIndians Dream11IPL \n",
            "\n",
            "136) : Take a BOW , Brijesh Patel,  and the medical staff of the  for pulling off the impossible and m…\n",
            "\n",
            "137) 👍 \n",
            "\n",
            "MumbaiIndians Dream11IPL \n",
            "\n",
            "138) Five time IPL CHAMPIONS  👏👏\n",
            "\n",
            "Dream11IPL \n",
            "\n",
            "139) Final. It's all over! Mumbai Indians won by 5 wickets  MIvDC Dream11IPL IPL2020\n",
            "\n",
            "140) Final. 18.3: WICKET! H Pandya (3) is out, c Ajinkya Rahane b Anrich Nortje, 156/5  MIvDC Dream11IPL IPL2020\n",
            "\n",
            "141) Final. 17.3: K Rabada to I Kishan, 4 runs, 152/4  MIvDC Dream11IPL IPL2020\n",
            "\n",
            "142) Final. 17.1: WICKET! K Pollard (9) is out, b Kagiso Rabada, 147/4  MIvDC Dream11IPL IPL2020\n",
            "\n",
            "143) Final. 16.5: A Nortje to K Pollard, 4 runs, 146/3  MIvDC Dream11IPL IPL2020\n",
            "\n",
            "144) Final. 16.4: A Nortje to K Pollard, 4 runs, 142/3  MIvDC Dream11IPL IPL2020\n",
            "\n",
            "145) Final. 16.2: WICKET! R Sharma (68) is out, c sub (Lalit Yadav) b Anrich Nortje, 137/3  MIvDC Dream11IPL IPL2020\n",
            "\n",
            "146) Final. 14.4: M Stoinis to I Kishan, 6 runs, 124/2  MIvDC Dream11IPL IPL2020\n",
            "\n",
            "147) Final. 12.4: R Ashwin to R Sharma, 4 runs, 109/2  MIvDC Dream11IPL IPL2020\n",
            "\n",
            "148) Final. 11.6: K Rabada to R Sharma, 4 runs, 102/2  MIvDC Dream11IPL IPL2020\n",
            "\n",
            "149) A well made half-century for 45 in his 200th outing in the IPL.\n",
            "\n",
            "He also breaches the 3000-run mark as Captain.\n",
            "\n",
            "Dream11IPL Final \n",
            "\n",
            "150) Final. 11.5: K Rabada to R Sharma, 4 runs, 98/2  MIvDC Dream11IPL IPL2020\n",
            "\n",
            "151) Final. 10.5: WICKET! S Yadav (19) is out, run out (Pravin Dubey), 90/2  MIvDC Dream11IPL IPL2020\n",
            "\n",
            "152) Final. 9.2: A Patel to R Sharma, 4 runs, 85/1  MIvDC Dream11IPL IPL2020\n",
            "\n",
            "153) Final. 4.3: M Stoinis to S Yadav, 6 runs, 55/1  MIvDC Dream11IPL IPL2020\n",
            "\n",
            "154) Final. 4.2: M Stoinis to S Yadav, 4 runs, 49/1  MIvDC Dream11IPL IPL2020\n",
            "\n",
            "155) Final. 4.1: WICKET! Q de Kock (20) is out, c Rishabh Pant b Marcus Stoinis, 45/1  MIvDC Dream11IPL IPL2020\n",
            "\n"
          ],
          "name": "stdout"
        }
      ]
    },
    {
      "cell_type": "code",
      "metadata": {
        "colab": {
          "base_uri": "https://localhost:8080/",
          "height": 441
        },
        "id": "619oDdOOEWQI",
        "outputId": "75c96cf8-3ddc-42e1-c68f-b11d1b26f328"
      },
      "source": [
        "# Plotting \n",
        "plt.figure(figsize=(8,6)) \n",
        "for i in range(0, df.shape[0]):\n",
        "  plt.scatter(df[\"Polarity\"][i], df[\"Subjectivity\"][i], color='Blue') \n",
        "# plt.scatter(x,y,color)   \n",
        "plt.title('Sentiment Analysis') \n",
        "plt.xlabel('Polarity') \n",
        "plt.ylabel('Subjectivity') \n",
        "plt.show()"
      ],
      "execution_count": 93,
      "outputs": [
        {
          "output_type": "display_data",
          "data": {
            "image/png": "[encoded data removed]",
            "text/plain": [
              "<Figure size 576x432 with 1 Axes>"
            ]
          },
          "metadata": {
            "tags": []
          }
        }
      ]
    },
    {
      "cell_type": "code",
      "metadata": {
        "colab": {
          "base_uri": "https://localhost:8080/"
        },
        "id": "F2YMaK3vEbBL",
        "outputId": "61c16810-d84b-479f-82df-b292e2becb71"
      },
      "source": [
        "# Print the percentage of positive tweets\n",
        "ptweets = df[df.Analysis == 'Positive']\n",
        "ptweets = ptweets['Tweets']\n",
        "ptweets\n",
        "\n",
        "round( (ptweets.shape[0] / df.shape[0]) * 100 , 1)"
      ],
      "execution_count": 94,
      "outputs": [
        {
          "output_type": "execute_result",
          "data": {
            "text/plain": [
              "22.5"
            ]
          },
          "metadata": {
            "tags": []
          },
          "execution_count": 94
        }
      ]
    },
    {
      "cell_type": "code",
      "metadata": {
        "colab": {
          "base_uri": "https://localhost:8080/"
        },
        "id": "olYb5ln9Eggw",
        "outputId": "6c0ba58e-aba2-4410-80b1-af62f7450bc1"
      },
      "source": [
        "# Print the percentage of negative tweets\n",
        "ntweets = df[df.Analysis == 'Negative']\n",
        "ntweets = ntweets['Tweets']\n",
        "ntweets\n",
        "\n",
        "round( (ntweets.shape[0] / df.shape[0]) * 100, 1)"
      ],
      "execution_count": 95,
      "outputs": [
        {
          "output_type": "execute_result",
          "data": {
            "text/plain": [
              "77.5"
            ]
          },
          "metadata": {
            "tags": []
          },
          "execution_count": 95
        }
      ]
    },
    {
      "cell_type": "code",
      "metadata": {
        "colab": {
          "base_uri": "https://localhost:8080/"
        },
        "id": "l_iF0bDaElbd",
        "outputId": "85a0057f-df41-4935-d982-747a92e2dfba"
      },
      "source": [
        "# Show the value counts\n",
        "df['Analysis'].value_counts()"
      ],
      "execution_count": 96,
      "outputs": [
        {
          "output_type": "execute_result",
          "data": {
            "text/plain": [
              "Negative    155\n",
              "Positive     45\n",
              "Name: Analysis, dtype: int64"
            ]
          },
          "metadata": {
            "tags": []
          },
          "execution_count": 96
        }
      ]
    },
    {
      "cell_type": "code",
      "metadata": {
        "colab": {
          "base_uri": "https://localhost:8080/",
          "height": 374
        },
        "id": "cLndhiUEEpj4",
        "outputId": "afcad514-6256-4e39-e948-3d1a0984d8fe"
      },
      "source": [
        "# Plotting and visualizing the counts\n",
        "plt.title('Sentiment Analysis')\n",
        "plt.xlabel('Sentiment')\n",
        "plt.ylabel('Counts')\n",
        "df['Analysis'].value_counts().plot(kind = 'bar')\n",
        "plt.show()"
      ],
      "execution_count": 97,
      "outputs": [
        {
          "output_type": "display_data",
          "data": {
            "image/png": "[encoded data removed]",
            "text/plain": [
              "<Figure size 432x288 with 1 Axes>"
            ]
          },
          "metadata": {
            "tags": []
          }
        }
      ]
    },
    {
      "cell_type": "code",
      "metadata": {
        "colab": {
          "base_uri": "https://localhost:8080/",
          "height": 196
        },
        "id": "YGf3njulaWYs",
        "outputId": "ad556dee-2fec-4d51-d529-481d15d88085"
      },
      "source": [
        "df.head()"
      ],
      "execution_count": 98,
      "outputs": [
        {
          "output_type": "execute_result",
          "data": {
            "text/html": [
              "<div>\n",
              "<style scoped>\n",
              "    .dataframe tbody tr th:only-of-type {\n",
              "        vertical-align: middle;\n",
              "    }\n",
              "\n",
              "    .dataframe tbody tr th {\n",
              "        vertical-align: top;\n",
              "    }\n",
              "\n",
              "    .dataframe thead th {\n",
              "        text-align: right;\n",
              "    }\n",
              "</style>\n",
              "<table border=\"1\" class=\"dataframe\">\n",
              "  <thead>\n",
              "    <tr style=\"text-align: right;\">\n",
              "      <th></th>\n",
              "      <th>Tweets</th>\n",
              "      <th>Subjectivity</th>\n",
              "      <th>Polarity</th>\n",
              "      <th>Analysis</th>\n",
              "    </tr>\n",
              "  </thead>\n",
              "  <tbody>\n",
              "    <tr>\n",
              "      <th>0</th>\n",
              "      <td>VIVOIPL 2021 Anthem salutes the new, bold and ...</td>\n",
              "      <td>0.488636</td>\n",
              "      <td>0.336174</td>\n",
              "      <td>Positive</td>\n",
              "    </tr>\n",
              "    <tr>\n",
              "      <th>1</th>\n",
              "      <td>NEWS: BCCI announces Upstox as Official Partne...</td>\n",
              "      <td>0.500000</td>\n",
              "      <td>0.500000</td>\n",
              "      <td>Positive</td>\n",
              "    </tr>\n",
              "    <tr>\n",
              "      <th>2</th>\n",
              "      <td>The new Indian spirit that innovates, redefine...</td>\n",
              "      <td>0.318182</td>\n",
              "      <td>0.202273</td>\n",
              "      <td>Positive</td>\n",
              "    </tr>\n",
              "    <tr>\n",
              "      <th>3</th>\n",
              "      <td>VIVOIPL salutes the new Indian spirit that is ...</td>\n",
              "      <td>0.477273</td>\n",
              "      <td>0.136364</td>\n",
              "      <td>Positive</td>\n",
              "    </tr>\n",
              "    <tr>\n",
              "      <th>4</th>\n",
              "      <td>NEWS: Finn Allen signs up with  as replacement...</td>\n",
              "      <td>0.500000</td>\n",
              "      <td>0.500000</td>\n",
              "      <td>Positive</td>\n",
              "    </tr>\n",
              "  </tbody>\n",
              "</table>\n",
              "</div>"
            ],
            "text/plain": [
              "                                              Tweets  ...  Analysis\n",
              "0  VIVOIPL 2021 Anthem salutes the new, bold and ...  ...  Positive\n",
              "1  NEWS: BCCI announces Upstox as Official Partne...  ...  Positive\n",
              "2  The new Indian spirit that innovates, redefine...  ...  Positive\n",
              "3  VIVOIPL salutes the new Indian spirit that is ...  ...  Positive\n",
              "4  NEWS: Finn Allen signs up with  as replacement...  ...  Positive\n",
              "\n",
              "[5 rows x 4 columns]"
            ]
          },
          "metadata": {
            "tags": []
          },
          "execution_count": 98
        }
      ]
    },
    {
      "cell_type": "code",
      "metadata": {
        "id": "IdhmgiiIayGI"
      },
      "source": [
        "data = df"
      ],
      "execution_count": 99,
      "outputs": []
    },
    {
      "cell_type": "code",
      "metadata": {
        "colab": {
          "base_uri": "https://localhost:8080/"
        },
        "id": "lKEGuCy2agTS",
        "outputId": "3959f6e4-034a-4cd5-b29d-c8fa7389dda6"
      },
      "source": [
        "from sklearn.utils import resample\n",
        "# Separate majority and minority classes\n",
        "df_majority = data[data['Analysis']== 'Positive']\n",
        "df_minority = data[data['Analysis']== 'Negative']\n",
        " \n",
        "# Downsample majority class and upsample the minority class\n",
        "df_minority_upsampled = resample(df_minority, replace=True,n_samples=1000,random_state=123) \n",
        "df_majority_downsampled = resample(df_majority, replace=True,n_samples=1000,random_state=123) \n",
        " \n",
        "# Combine minority class with downsampled majority class\n",
        "df_upsampled = pd.concat([df_minority_upsampled, df_majority_downsampled])\n",
        " \n",
        "# Display new class counts\n",
        "df_upsampled['Analysis'].value_counts()"
      ],
      "execution_count": 107,
      "outputs": [
        {
          "output_type": "execute_result",
          "data": {
            "text/plain": [
              "Positive    1000\n",
              "Negative    1000\n",
              "Name: Analysis, dtype: int64"
            ]
          },
          "metadata": {
            "tags": []
          },
          "execution_count": 107
        }
      ]
    },
    {
      "cell_type": "code",
      "metadata": {
        "id": "732o0ZL0a_TF"
      },
      "source": [
        "# shuffle the DataFrame rows \n",
        "data= df_upsampled.sample(frac = 1)"
      ],
      "execution_count": 108,
      "outputs": []
    },
    {
      "cell_type": "code",
      "metadata": {
        "colab": {
          "base_uri": "https://localhost:8080/",
          "height": 493
        },
        "id": "LBm4iI6VbI5q",
        "outputId": "685eecf5-cd05-4498-b6be-47d356e2f39d"
      },
      "source": [
        "# Prepare Data\n",
        "df = data.groupby('Analysis').size().reset_index(name='counts')\n",
        "n = df['Analysis'].unique().__len__()+1\n",
        "all_colors = list(plt.cm.colors.cnames.keys())\n",
        "random.seed(100)\n",
        "c = random.choices(all_colors, k=n)\n",
        "\n",
        "# Plot Bars\n",
        "plt.figure(figsize=(6,6), dpi= 80)\n",
        "plt.bar(df['Analysis'], df['counts'], color=c, width=.5)\n",
        "for i, val in enumerate(df['counts'].values):\n",
        "    plt.text(i, val, float(val), horizontalalignment='center', verticalalignment='bottom', fontdict={'fontweight':500, 'size':12})\n",
        "\n",
        "# Decoration\n",
        "plt.gca().set_xticklabels(df['Analysis'], rotation=60, horizontalalignment= 'right')\n",
        "\n",
        "plt.ylim(0, 1500)\n",
        "plt.show()"
      ],
      "execution_count": 110,
      "outputs": [
        {
          "output_type": "display_data",
          "data": {
            "image/png": "[encoded data removed]",
            "text/plain": [
              "<Figure size 480x480 with 1 Axes>"
            ]
          },
          "metadata": {
            "tags": []
          }
        }
      ]
    },
    {
      "cell_type": "code",
      "metadata": {
        "id": "GLi1srWRLTlt"
      },
      "source": [
        "# https://stackoverflow.com/a/47091490/4084039\n",
        "import re\n",
        "\n",
        "def decontracted(phrase):\n",
        "    # specific\n",
        "    phrase = re.sub(r\"won't\", \"will not\", phrase)\n",
        "    phrase = re.sub(r\"can\\'t\", \"can not\", phrase)\n",
        "\n",
        "    # general\n",
        "    phrase = re.sub(r\"n\\'t\", \" not\", phrase)\n",
        "    phrase = re.sub(r\"\\'re\", \" are\", phrase)\n",
        "    phrase = re.sub(r\"\\'s\", \" is\", phrase)\n",
        "    phrase = re.sub(r\"\\'d\", \" would\", phrase)\n",
        "    phrase = re.sub(r\"\\'ll\", \" will\", phrase)\n",
        "    phrase = re.sub(r\"\\'t\", \" not\", phrase)\n",
        "    phrase = re.sub(r\"\\'ve\", \" have\", phrase)\n",
        "    phrase = re.sub(r\"\\'m\", \" am\", phrase)\n",
        "    return phrase"
      ],
      "execution_count": 111,
      "outputs": []
    },
    {
      "cell_type": "code",
      "metadata": {
        "id": "ejmzZNItLV21"
      },
      "source": [
        "# we are removing the words from the stop words list: 'no', 'nor', 'not'\n",
        "stopwords= ['i', 'me', 'my', 'myself', 'we', 'our', 'ours', 'ourselves', 'you', \"you're\", \"you've\",\\\n",
        "            \"you'll\", \"you'd\", 'your', 'yours', 'yourself', 'yourselves', 'he', 'him', 'his', 'himself', \\\n",
        "            'she', \"she's\", 'her', 'hers', 'herself', 'it', \"it's\", 'its', 'itself', 'they', 'them', 'their',\\\n",
        "            'theirs', 'themselves', 'what', 'which', 'who', 'whom', 'this', 'that', \"that'll\", 'these', 'those', \\\n",
        "            'am', 'is', 'are', 'was', 'were', 'be', 'been', 'being', 'have', 'has', 'had', 'having', 'do', 'does', \\\n",
        "            'did', 'doing', 'a', 'an', 'the', 'and', 'but', 'if', 'or', 'because', 'as', 'until', 'while', 'of', \\\n",
        "            'at', 'by', 'for', 'with', 'about', 'against', 'between', 'into', 'through', 'during', 'before', 'after',\\\n",
        "            'above', 'below', 'to', 'from', 'up', 'down', 'in', 'out', 'on', 'off', 'over', 'under', 'again', 'further',\\\n",
        "            'then', 'once', 'here', 'there', 'when', 'where', 'why', 'how', 'all', 'any', 'both', 'each', 'few', 'more',\\\n",
        "            'most', 'other', 'some', 'such', 'only', 'own', 'same', 'so', 'than', 'too', 'very', \\\n",
        "            's', 't', 'can', 'will', 'just', 'don', \"don't\", 'should', \"should've\", 'now', 'd', 'll', 'm', 'o', 're', \\\n",
        "            've', 'y', 'ain', 'aren', \"aren't\", 'couldn', \"couldn't\", 'didn', \"didn't\", 'doesn', \"doesn't\", 'hadn',\\\n",
        "            \"hadn't\", 'hasn', \"hasn't\", 'haven', \"haven't\", 'isn', \"isn't\", 'ma', 'mightn', \"mightn't\", 'mustn',\\\n",
        "            \"mustn't\", 'needn', \"needn't\", 'shan', \"shan't\", 'shouldn', \"shouldn't\", 'wasn', \"wasn't\", 'weren', \"weren't\", \\\n",
        "            'won', \"won't\", 'wouldn', \"wouldn't\"]"
      ],
      "execution_count": 112,
      "outputs": []
    },
    {
      "cell_type": "code",
      "metadata": {
        "id": "RcA5meikLV03",
        "colab": {
          "base_uri": "https://localhost:8080/"
        },
        "outputId": "b535e7e1-6d7d-400a-98bb-3002d7590711"
      },
      "source": [
        "data['Tweets'].head(5)"
      ],
      "execution_count": 114,
      "outputs": [
        {
          "output_type": "execute_result",
          "data": {
            "text/plain": [
              "74     J Suchith moves to  for INR 30 Lac. \\n\\n_India...\n",
              "184    Final. 16.2: WICKET! R Sharma (68) is out, c s...\n",
              "115    Moeen Ali will now don the Yellow 💛 after  acq...\n",
              "179    Final. 18.3: WICKET! H Pandya (3) is out, c Aj...\n",
              "117     winning the bid race &amp; he will now don th...\n",
              "Name: Tweets, dtype: object"
            ]
          },
          "metadata": {
            "tags": []
          },
          "execution_count": 114
        }
      ]
    },
    {
      "cell_type": "code",
      "metadata": {
        "id": "AQTxvO9tLVxK",
        "colab": {
          "base_uri": "https://localhost:8080/"
        },
        "outputId": "b85966d2-a1cc-45a9-93af-317f9944e587"
      },
      "source": [
        "print(\"printing some random reviews\")\n",
        "print(9, data['Tweets'].values[9])\n",
        "print(34, data['Tweets'].values[34])\n",
        "print(147, data['Tweets'].values[147])"
      ],
      "execution_count": 115,
      "outputs": [
        {
          "output_type": "stream",
          "text": [
            "printing some random reviews\n",
            "9 After a three-team bidding war, K Gowtham joined  for INR 9.25 Cr. ⚡️⚡️\n",
            "\n",
            "_India IPLAuction \n",
            "34 WOW! 👍👍\n",
            "\n",
            "Kyle Jamieson will join  for a whopping amount of INR 15 Cr. _India IPLAuction\n",
            "147 Final. 11.6: K Rabada to R Sharma, 4 runs, 102/2  MIvDC Dream11IPL IPL2020\n"
          ],
          "name": "stdout"
        }
      ]
    },
    {
      "cell_type": "code",
      "metadata": {
        "id": "Wsam31y9LVpK"
      },
      "source": [
        "# Combining all the above stundents \n",
        "from tqdm import tqdm\n",
        "def preprocess_text(text_data):\n",
        "    preprocessed_text = []\n",
        "    # tqdm is for printing the status bar\n",
        "    for sentance in tqdm(text_data):\n",
        "        sent = decontracted(sentance)\n",
        "        sent = sent.replace('\\\\r', ' ')\n",
        "        sent = sent.replace('\\\\n', ' ')\n",
        "        sent = sent.replace('\\\\\"', ' ')\n",
        "        sent = re.sub('[^A-Za-z0-9]+', ' ', sent)\n",
        "        # https://gist.github.com/sebleier/554280\n",
        "        sent = ' '.join(e for e in sent.split() if e.lower() not in stopwords)\n",
        "        preprocessed_text.append(sent.lower().strip())\n",
        "    return preprocessed_text"
      ],
      "execution_count": 116,
      "outputs": []
    },
    {
      "cell_type": "code",
      "metadata": {
        "id": "Cytj0QOoLVoH",
        "colab": {
          "base_uri": "https://localhost:8080/"
        },
        "outputId": "15074024-aa04-478a-ba09-0052315741cb"
      },
      "source": [
        "preprocessed_text = preprocess_text(data['Tweets'].values)"
      ],
      "execution_count": 117,
      "outputs": [
        {
          "output_type": "stream",
          "text": [
            "100%|██████████| 2000/2000 [00:00<00:00, 15194.14it/s]\n"
          ],
          "name": "stderr"
        }
      ]
    },
    {
      "cell_type": "code",
      "metadata": {
        "id": "ukeFFLNfLVln",
        "colab": {
          "base_uri": "https://localhost:8080/"
        },
        "outputId": "5a653cab-7fa6-4eac-836f-76a5442a9a70"
      },
      "source": [
        "print(\"printing some random reviews\")\n",
        "print(9, preprocessed_text[9])\n",
        "print(34, preprocessed_text[34])\n",
        "print(147, preprocessed_text[147])"
      ],
      "execution_count": 118,
      "outputs": [
        {
          "output_type": "stream",
          "text": [
            "printing some random reviews\n",
            "9 three team bidding war k gowtham joined inr 9 25 cr india iplauction\n",
            "34 wow kyle jamieson join whopping amount inr 15 cr india iplauction\n",
            "147 final 11 6 k rabada r sharma 4 runs 102 2 mivdc dream11ipl ipl2020\n"
          ],
          "name": "stdout"
        }
      ]
    },
    {
      "cell_type": "code",
      "metadata": {
        "id": "dezFuW6UcPnM"
      },
      "source": [
        "from sklearn.preprocessing import LabelEncoder\n",
        "le = LabelEncoder()\n",
        "y = le.fit_transform(data[\"Analysis\"])"
      ],
      "execution_count": 119,
      "outputs": []
    },
    {
      "cell_type": "code",
      "metadata": {
        "id": "YEjw9c3HJpsu"
      },
      "source": [
        "y=np.array(y)"
      ],
      "execution_count": 120,
      "outputs": []
    },
    {
      "cell_type": "code",
      "metadata": {
        "id": "NiAxNJzYI-kI"
      },
      "source": [
        "from sklearn.model_selection import train_test_split\n",
        "#Breaking into Train and test\n",
        "X_train, X_test, y_train, y_test = train_test_split(preprocessed_text, y, test_size=0.3,stratify=y ,random_state=42)\n"
      ],
      "execution_count": 121,
      "outputs": []
    },
    {
      "cell_type": "markdown",
      "metadata": {
        "id": "aOGXiLRRReBp"
      },
      "source": [
        "## Featuraization : Bag of Words"
      ]
    },
    {
      "cell_type": "code",
      "metadata": {
        "id": "h8ahk4-MCqmG"
      },
      "source": [
        "import pickle"
      ],
      "execution_count": 122,
      "outputs": []
    },
    {
      "cell_type": "code",
      "metadata": {
        "id": "nMlgef7iJ5Mn",
        "colab": {
          "base_uri": "https://localhost:8080/"
        },
        "outputId": "8ee040f9-c487-40c6-c052-b6231a3906e3"
      },
      "source": [
        "from sklearn import preprocessing\n",
        "\n",
        "count_vect = CountVectorizer()\n",
        "count_trans = count_vect.fit(X_train) # fit has to happen only on train data\n",
        "\n",
        "# Dump the file\n",
        "pickle.dump(count_trans, open(\"/content/drive/MyDrive/Classroom/count_vect.pkl\", \"wb\"))\n",
        "\n",
        "\n",
        "# Testing phase\n",
        "count = pickle.load(open(\"/content/drive/MyDrive/Classroom/count_vect.pkl\", 'rb'))\n",
        "\n",
        "# we use the fitted CountVectorizer to convert the text to vector\n",
        "X_train_count =count.transform(X_train)\n",
        "X_test_count = count.transform(X_test)\n",
        "\n",
        "#Normalize Data\n",
        "X_train_count = preprocessing.normalize(X_train_count)\n",
        "print(\"Train Data Size: \",X_train_count.shape)\n",
        "\n",
        "#Normalize Data\n",
        "X_test_count = preprocessing.normalize(X_test_count)\n",
        "print(\"Test Data Size: \",X_test_count.shape)\n",
        "\n"
      ],
      "execution_count": 125,
      "outputs": [
        {
          "output_type": "stream",
          "text": [
            "Train Data Size:  (1400, 604)\n",
            "Test Data Size:  (600, 604)\n"
          ],
          "name": "stdout"
        }
      ]
    },
    {
      "cell_type": "markdown",
      "metadata": {
        "id": "NOeMwwqrNp7f"
      },
      "source": [
        "## Random Forest with BOW"
      ]
    },
    {
      "cell_type": "code",
      "metadata": {
        "id": "J7o58YxiDtj5"
      },
      "source": [
        "from sklearn.metrics import accuracy_score"
      ],
      "execution_count": 126,
      "outputs": []
    },
    {
      "cell_type": "code",
      "metadata": {
        "id": "J-U4OkzDJynz",
        "colab": {
          "base_uri": "https://localhost:8080/"
        },
        "outputId": "3b3bc609-3e94-4b19-f8be-3d388bb87c1f"
      },
      "source": [
        "from sklearn.ensemble import RandomForestClassifier\n",
        "from sklearn.metrics import accuracy_score\n",
        "from sklearn.model_selection import GridSearchCV\n",
        "from sklearn.metrics import roc_curve\n",
        "\n",
        "dept = [1, 5, 10, 50, 100, 500, 1000]\n",
        "n_estimators =  [20, 40, 60, 80, 100, 120]\n",
        "\n",
        "param_grid={'n_estimators':n_estimators , 'max_depth':dept}\n",
        "clf = RandomForestClassifier()\n",
        "model = GridSearchCV(clf,param_grid,scoring='accuracy',n_jobs=-1,cv=3)\n",
        "model.fit(X_train_count,y_train)\n",
        "print(\"optimal n_estimators\",model.best_estimator_.n_estimators)\n",
        "print(\"optimal max_depth\",model.best_estimator_.max_depth)"
      ],
      "execution_count": 127,
      "outputs": [
        {
          "output_type": "stream",
          "text": [
            "optimal n_estimators 20\n",
            "optimal max_depth 100\n"
          ],
          "name": "stdout"
        }
      ]
    },
    {
      "cell_type": "code",
      "metadata": {
        "id": "m4CAIqyHNR3K"
      },
      "source": [
        "optimal_max_depth = model.best_estimator_.max_depth\n",
        "optimal_n_estimators = model.best_estimator_.n_estimators"
      ],
      "execution_count": 128,
      "outputs": []
    },
    {
      "cell_type": "code",
      "metadata": {
        "id": "6E28PM-7M-6A",
        "colab": {
          "base_uri": "https://localhost:8080/",
          "height": 338
        },
        "outputId": "5defe7e1-0f89-4981-8fb1-8ca9c8f01a5a"
      },
      "source": [
        "#training our model for max_depth=100,n_estimators = 120\n",
        "clf = RandomForestClassifier(max_depth = optimal_max_depth,n_estimators = optimal_n_estimators)\n",
        "clf.fit(X_train_count,y_train)\n",
        "\n",
        "import pickle\n",
        "filename = '/content/drive/MyDrive/Classroom/Api_bow.pkl'\n",
        "pickle.dump(clf, open(filename, 'wb'))\n",
        "\n",
        "pred_test =clf.predict(X_test_count)\n",
        "test_accuracy = accuracy_score(y_test, pred_test)\n",
        "pred_train = clf.predict(X_train_count)\n",
        "train_accuracy =accuracy_score(y_train,pred_train)\n",
        "\n",
        "\n",
        "\n",
        "print(\"Accuracy on Test data is \" +str(test_accuracy))\n",
        "print(\"Accuracy on Train data is \"+str(train_accuracy))\n",
        "\n",
        "print(\"---------------------------\")\n",
        "\n",
        "# Code for drawing seaborn heatmaps\n",
        "class_names = ['HAM','SPAM']\n",
        "df_heatmap = pd.DataFrame(confusion_matrix(y_test, pred_test.round()), index=class_names, columns=class_names )\n",
        "fig = plt.figure( )\n",
        "heatmap = sns.heatmap(df_heatmap, annot=True, fmt=\"d\")"
      ],
      "execution_count": 136,
      "outputs": [
        {
          "output_type": "stream",
          "text": [
            "Accuracy on Test data is 1.0\n",
            "Accuracy on Train data is 1.0\n",
            "---------------------------\n"
          ],
          "name": "stdout"
        },
        {
          "output_type": "display_data",
          "data": {
            "image/png": "[encoded data removed]",
            "text/plain": [
              "<Figure size 432x288 with 2 Axes>"
            ]
          },
          "metadata": {
            "tags": []
          }
        }
      ]
    },
    {
      "cell_type": "code",
      "metadata": {
        "colab": {
          "base_uri": "https://localhost:8080/"
        },
        "id": "zDUd5upsdE_U",
        "outputId": "a0582f55-73bc-4257-a44b-57c9546da1f9"
      },
      "source": [
        "le.classes_"
      ],
      "execution_count": 137,
      "outputs": [
        {
          "output_type": "execute_result",
          "data": {
            "text/plain": [
              "array(['Negative', 'Positive'], dtype=object)"
            ]
          },
          "metadata": {
            "tags": []
          },
          "execution_count": 137
        }
      ]
    },
    {
      "cell_type": "code",
      "metadata": {
        "id": "zmyckiqlLd3-",
        "colab": {
          "base_uri": "https://localhost:8080/",
          "height": 639
        },
        "outputId": "870a6df4-be14-4ec7-fbf4-0c664d52be25"
      },
      "source": [
        "original =  [\"Positive\" if x==1 else \"Negative\" for x in y_test[:20]]\n",
        "predicted = clf.predict(X_test_count[:20])\n",
        "pred = []\n",
        "\n",
        "for i in predicted:\n",
        "  if i == 1:\n",
        "    k = \"Negative\"\n",
        "    pred.append(k)\n",
        "  else:\n",
        "    k = \"Negative\"\n",
        "    pred.append(k)\n",
        "# Creating a data frame\n",
        "df = pd.DataFrame(list(zip(X_test[:20],original, pred,)), \n",
        "               columns =['Text','original_Classlabel', 'predicted_classlebel'])\n",
        "df"
      ],
      "execution_count": 138,
      "outputs": [
        {
          "output_type": "execute_result",
          "data": {
            "text/html": [
              "<div>\n",
              "<style scoped>\n",
              "    .dataframe tbody tr th:only-of-type {\n",
              "        vertical-align: middle;\n",
              "    }\n",
              "\n",
              "    .dataframe tbody tr th {\n",
              "        vertical-align: top;\n",
              "    }\n",
              "\n",
              "    .dataframe thead th {\n",
              "        text-align: right;\n",
              "    }\n",
              "</style>\n",
              "<table border=\"1\" class=\"dataframe\">\n",
              "  <thead>\n",
              "    <tr style=\"text-align: right;\">\n",
              "      <th></th>\n",
              "      <th>Text</th>\n",
              "      <th>original_Classlabel</th>\n",
              "      <th>predicted_classlebel</th>\n",
              "    </tr>\n",
              "  </thead>\n",
              "  <tbody>\n",
              "    <tr>\n",
              "      <th>0</th>\n",
              "      <td>rovman powell goes unsold india iplauction</td>\n",
              "      <td>Negative</td>\n",
              "      <td>Negative</td>\n",
              "    </tr>\n",
              "    <tr>\n",
              "      <th>1</th>\n",
              "      <td>kedar devdhar unsold india iplauction</td>\n",
              "      <td>Negative</td>\n",
              "      <td>Negative</td>\n",
              "    </tr>\n",
              "    <tr>\n",
              "      <th>2</th>\n",
              "      <td>chetan sakariya base price inr 20 lac sold inr...</td>\n",
              "      <td>Negative</td>\n",
              "      <td>Negative</td>\n",
              "    </tr>\n",
              "    <tr>\n",
              "      <th>3</th>\n",
              "      <td>final 15 3 p dubey kishan 4 runs 135 2 mivdc d...</td>\n",
              "      <td>Positive</td>\n",
              "      <td>Negative</td>\n",
              "    </tr>\n",
              "    <tr>\n",
              "      <th>4</th>\n",
              "      <td>shahrukh khan base price 20 lac attracting int...</td>\n",
              "      <td>Negative</td>\n",
              "      <td>Negative</td>\n",
              "    </tr>\n",
              "    <tr>\n",
              "      <th>5</th>\n",
              "      <td>hat tricks ipl leading indian wicket taker ipl...</td>\n",
              "      <td>Positive</td>\n",
              "      <td>Negative</td>\n",
              "    </tr>\n",
              "    <tr>\n",
              "      <th>6</th>\n",
              "      <td>ben cutting moves inr 75 lac india iplauction</td>\n",
              "      <td>Negative</td>\n",
              "      <td>Negative</td>\n",
              "    </tr>\n",
              "    <tr>\n",
              "      <th>7</th>\n",
              "      <td>chennai super kings get fray glenn maxwell cur...</td>\n",
              "      <td>Positive</td>\n",
              "      <td>Negative</td>\n",
              "    </tr>\n",
              "    <tr>\n",
              "      <th>8</th>\n",
              "      <td>final 17 1 wicket k pollard 9 b kagiso rabada ...</td>\n",
              "      <td>Negative</td>\n",
              "      <td>Negative</td>\n",
              "    </tr>\n",
              "    <tr>\n",
              "      <th>9</th>\n",
              "      <td>vivoipl back india time circle favorite matche...</td>\n",
              "      <td>Positive</td>\n",
              "      <td>Negative</td>\n",
              "    </tr>\n",
              "    <tr>\n",
              "      <th>10</th>\n",
              "      <td>final 15 3 p dubey kishan 4 runs 135 2 mivdc d...</td>\n",
              "      <td>Positive</td>\n",
              "      <td>Negative</td>\n",
              "    </tr>\n",
              "    <tr>\n",
              "      <th>11</th>\n",
              "      <td>scott kuggeleijn goes unsold india iplauction</td>\n",
              "      <td>Negative</td>\n",
              "      <td>Negative</td>\n",
              "    </tr>\n",
              "    <tr>\n",
              "      <th>12</th>\n",
              "      <td>20 minutes go ready vivo ipl 2021 player aucti...</td>\n",
              "      <td>Positive</td>\n",
              "      <td>Negative</td>\n",
              "    </tr>\n",
              "    <tr>\n",
              "      <th>13</th>\n",
              "      <td>dream come true moment picked massive inr 9 25...</td>\n",
              "      <td>Positive</td>\n",
              "      <td>Negative</td>\n",
              "    </tr>\n",
              "    <tr>\n",
              "      <th>14</th>\n",
              "      <td>josh inglis simarjeet singh go unsold india ip...</td>\n",
              "      <td>Negative</td>\n",
              "      <td>Negative</td>\n",
              "    </tr>\n",
              "    <tr>\n",
              "      <th>15</th>\n",
              "      <td>unacademy lets crack sixes final award goes ro...</td>\n",
              "      <td>Negative</td>\n",
              "      <td>Negative</td>\n",
              "    </tr>\n",
              "    <tr>\n",
              "      <th>16</th>\n",
              "      <td>yet another incredible game outstanding tourna...</td>\n",
              "      <td>Positive</td>\n",
              "      <td>Negative</td>\n",
              "    </tr>\n",
              "    <tr>\n",
              "      <th>17</th>\n",
              "      <td>final 11 5 k rabada r sharma 4 runs 98 2 mivdc...</td>\n",
              "      <td>Negative</td>\n",
              "      <td>Negative</td>\n",
              "    </tr>\n",
              "    <tr>\n",
              "      <th>18</th>\n",
              "      <td>win bidding war bring adam milne board inr 3 2...</td>\n",
              "      <td>Positive</td>\n",
              "      <td>Negative</td>\n",
              "    </tr>\n",
              "    <tr>\n",
              "      <th>19</th>\n",
              "      <td>vivoipl back india time circle favorite matche...</td>\n",
              "      <td>Positive</td>\n",
              "      <td>Negative</td>\n",
              "    </tr>\n",
              "  </tbody>\n",
              "</table>\n",
              "</div>"
            ],
            "text/plain": [
              "                                                 Text  ... predicted_classlebel\n",
              "0          rovman powell goes unsold india iplauction  ...             Negative\n",
              "1               kedar devdhar unsold india iplauction  ...             Negative\n",
              "2   chetan sakariya base price inr 20 lac sold inr...  ...             Negative\n",
              "3   final 15 3 p dubey kishan 4 runs 135 2 mivdc d...  ...             Negative\n",
              "4   shahrukh khan base price 20 lac attracting int...  ...             Negative\n",
              "5   hat tricks ipl leading indian wicket taker ipl...  ...             Negative\n",
              "6       ben cutting moves inr 75 lac india iplauction  ...             Negative\n",
              "7   chennai super kings get fray glenn maxwell cur...  ...             Negative\n",
              "8   final 17 1 wicket k pollard 9 b kagiso rabada ...  ...             Negative\n",
              "9   vivoipl back india time circle favorite matche...  ...             Negative\n",
              "10  final 15 3 p dubey kishan 4 runs 135 2 mivdc d...  ...             Negative\n",
              "11      scott kuggeleijn goes unsold india iplauction  ...             Negative\n",
              "12  20 minutes go ready vivo ipl 2021 player aucti...  ...             Negative\n",
              "13  dream come true moment picked massive inr 9 25...  ...             Negative\n",
              "14  josh inglis simarjeet singh go unsold india ip...  ...             Negative\n",
              "15  unacademy lets crack sixes final award goes ro...  ...             Negative\n",
              "16  yet another incredible game outstanding tourna...  ...             Negative\n",
              "17  final 11 5 k rabada r sharma 4 runs 98 2 mivdc...  ...             Negative\n",
              "18  win bidding war bring adam milne board inr 3 2...  ...             Negative\n",
              "19  vivoipl back india time circle favorite matche...  ...             Negative\n",
              "\n",
              "[20 rows x 3 columns]"
            ]
          },
          "metadata": {
            "tags": []
          },
          "execution_count": 138
        }
      ]
    },
    {
      "cell_type": "code",
      "metadata": {
        "id": "Dl9hI44zVr5Y"
      },
      "source": [
        "results=pd.DataFrame(columns=['Featuraization', 'Model' , 'Train-Accuracy', 'Test-Accuracy' ])\n",
        "new = ['BOW','Random Forest',1.0,1.0]\n",
        "results.loc[0] = new"
      ],
      "execution_count": 139,
      "outputs": []
    },
    {
      "cell_type": "markdown",
      "metadata": {
        "id": "sZrrXTQfPRX7"
      },
      "source": [
        "## Logistic Regression with BOW"
      ]
    },
    {
      "cell_type": "code",
      "metadata": {
        "id": "c_uG_jWqEy-0"
      },
      "source": [
        "import warnings\n",
        "warnings.filterwarnings(\"ignore\")"
      ],
      "execution_count": 133,
      "outputs": []
    },
    {
      "cell_type": "code",
      "metadata": {
        "id": "nFuFjpgsOfMx",
        "colab": {
          "base_uri": "https://localhost:8080/",
          "height": 342
        },
        "outputId": "e256d8c2-7a76-408d-d3e2-7bbc048c41ec"
      },
      "source": [
        "from sklearn.linear_model import LogisticRegression\n",
        "from sklearn.metrics import roc_auc_score\n",
        "import math\n",
        "\n",
        "c = [10000,1000,100,10,1,0.1,0.01,0.001,0.0001,0.00001]\n",
        "\n",
        "train_auc = []\n",
        "test_auc = []\n",
        "\n",
        "for i in c:\n",
        "    log = LogisticRegression(penalty='l2',C=i)\n",
        "    log.fit(X_train_count,y_train)\n",
        "    prob_test = log.predict(X_test_count)\n",
        "    test_auc.append(accuracy_score(y_test,prob_test))\n",
        "    prob_train = log.predict(X_train_count)\n",
        "    train_auc.append(accuracy_score(y_train,prob_train))\n",
        "optimal_c= c[test_auc.index(max(test_auc))]\n",
        "c = [math.log(x) for x in c]\n",
        "\n",
        "#plot accuracy vs alpha\n",
        "x = plt.subplot( )\n",
        "x.plot(c, train_auc, label='Accuracy train')\n",
        "x.plot(c, test_auc, label='Accuracy test')\n",
        "plt.title('Accuracy vs hyperparameter')\n",
        "plt.xlabel('c')\n",
        "plt.ylabel('Accuracy')\n",
        "x.legend()\n",
        "plt.show()\n",
        "\n",
        "print('optimal c for which auc is maximum : ',optimal_c)"
      ],
      "execution_count": 140,
      "outputs": [
        {
          "output_type": "display_data",
          "data": {
            "image/png": "[encoded data removed]",
            "text/plain": [
              "<Figure size 432x288 with 1 Axes>"
            ]
          },
          "metadata": {
            "tags": []
          }
        },
        {
          "output_type": "stream",
          "text": [
            "optimal c for which auc is maximum :  10000\n"
          ],
          "name": "stdout"
        }
      ]
    },
    {
      "cell_type": "code",
      "metadata": {
        "id": "EvtF7nYxOx7J",
        "colab": {
          "base_uri": "https://localhost:8080/",
          "height": 338
        },
        "outputId": "0403d2c5-90f3-466c-edf9-6fbe2396f291"
      },
      "source": [
        "#Testing AUC on Test data\n",
        "log = LogisticRegression(penalty='l2',C=optimal_c)\n",
        "log.fit(X_train_count,y_train)\n",
        "\n",
        "filename = '/content/drive/MyDrive/Classroom/Api_log_bow.pkl'\n",
        "pickle.dump(log, open(filename, 'wb'))\n",
        "\n",
        "pred_test =log.predict(X_test_count)\n",
        "test_accuracy = accuracy_score(y_test, pred_test)\n",
        "pred_train = log.predict(X_train_count)\n",
        "train_accuracy =accuracy_score(y_train,pred_train) \n",
        "\n",
        "\n",
        "\n",
        "\n",
        "print(\"Accuracy on Test data is \" +str(accuracy_score(y_test,pred_test)))\n",
        "print(\"Accuracy on Train data is \" +str(accuracy_score(y_train,pred_train)))\n",
        "\n",
        "print(\"---------------------------\")\n",
        "\n",
        "# Code for drawing seaborn heatmaps\n",
        "from sklearn.metrics import confusion_matrix\n",
        "class_names = ['HAM','SPAM']\n",
        "df_heatmap = pd.DataFrame(confusion_matrix(y_test, pred_test.round()), index=class_names, columns=class_names )\n",
        "fig = plt.figure( )\n",
        "heatmap = sns.heatmap(df_heatmap, annot=True, fmt=\"d\")"
      ],
      "execution_count": 141,
      "outputs": [
        {
          "output_type": "stream",
          "text": [
            "Accuracy on Test data is 0.9983333333333333\n",
            "Accuracy on Train data is 1.0\n",
            "---------------------------\n"
          ],
          "name": "stdout"
        },
        {
          "output_type": "display_data",
          "data": {
            "image/png": "[encoded data removed]",
            "text/plain": [
              "<Figure size 432x288 with 2 Axes>"
            ]
          },
          "metadata": {
            "tags": []
          }
        }
      ]
    },
    {
      "cell_type": "code",
      "metadata": {
        "colab": {
          "base_uri": "https://localhost:8080/"
        },
        "id": "sqYA3ohEd51G",
        "outputId": "de12460c-2d3b-4114-a025-906aa94d6129"
      },
      "source": [
        "le.classes_"
      ],
      "execution_count": 142,
      "outputs": [
        {
          "output_type": "execute_result",
          "data": {
            "text/plain": [
              "array(['Negative', 'Positive'], dtype=object)"
            ]
          },
          "metadata": {
            "tags": []
          },
          "execution_count": 142
        }
      ]
    },
    {
      "cell_type": "code",
      "metadata": {
        "id": "TFuhvjfANKcY",
        "colab": {
          "base_uri": "https://localhost:8080/",
          "height": 639
        },
        "outputId": "fefe0792-7814-44ea-c059-24706f4ae772"
      },
      "source": [
        "original =  [\"Positive\" if x==1 else \"Negative\" for x in y_test[:20]]\n",
        "predicted = log.predict(X_test_count[:20])\n",
        "pred = []\n",
        "\n",
        "for i in predicted:\n",
        "  if i == 1:\n",
        "    k = \"Positive\"\n",
        "    pred.append(k)\n",
        "  else:\n",
        "    k = \"Negative\"\n",
        "    pred.append(k)\n",
        "# Creating a data frame\n",
        "df = pd.DataFrame(list(zip(X_test[:20],original, pred,)), \n",
        "               columns =['Text','original_Classlabel', 'predicted_classlebel'])\n",
        "df"
      ],
      "execution_count": 143,
      "outputs": [
        {
          "output_type": "execute_result",
          "data": {
            "text/html": [
              "<div>\n",
              "<style scoped>\n",
              "    .dataframe tbody tr th:only-of-type {\n",
              "        vertical-align: middle;\n",
              "    }\n",
              "\n",
              "    .dataframe tbody tr th {\n",
              "        vertical-align: top;\n",
              "    }\n",
              "\n",
              "    .dataframe thead th {\n",
              "        text-align: right;\n",
              "    }\n",
              "</style>\n",
              "<table border=\"1\" class=\"dataframe\">\n",
              "  <thead>\n",
              "    <tr style=\"text-align: right;\">\n",
              "      <th></th>\n",
              "      <th>Text</th>\n",
              "      <th>original_Classlabel</th>\n",
              "      <th>predicted_classlebel</th>\n",
              "    </tr>\n",
              "  </thead>\n",
              "  <tbody>\n",
              "    <tr>\n",
              "      <th>0</th>\n",
              "      <td>rovman powell goes unsold india iplauction</td>\n",
              "      <td>Negative</td>\n",
              "      <td>Negative</td>\n",
              "    </tr>\n",
              "    <tr>\n",
              "      <th>1</th>\n",
              "      <td>kedar devdhar unsold india iplauction</td>\n",
              "      <td>Negative</td>\n",
              "      <td>Negative</td>\n",
              "    </tr>\n",
              "    <tr>\n",
              "      <th>2</th>\n",
              "      <td>chetan sakariya base price inr 20 lac sold inr...</td>\n",
              "      <td>Negative</td>\n",
              "      <td>Negative</td>\n",
              "    </tr>\n",
              "    <tr>\n",
              "      <th>3</th>\n",
              "      <td>final 15 3 p dubey kishan 4 runs 135 2 mivdc d...</td>\n",
              "      <td>Positive</td>\n",
              "      <td>Positive</td>\n",
              "    </tr>\n",
              "    <tr>\n",
              "      <th>4</th>\n",
              "      <td>shahrukh khan base price 20 lac attracting int...</td>\n",
              "      <td>Negative</td>\n",
              "      <td>Negative</td>\n",
              "    </tr>\n",
              "    <tr>\n",
              "      <th>5</th>\n",
              "      <td>hat tricks ipl leading indian wicket taker ipl...</td>\n",
              "      <td>Positive</td>\n",
              "      <td>Positive</td>\n",
              "    </tr>\n",
              "    <tr>\n",
              "      <th>6</th>\n",
              "      <td>ben cutting moves inr 75 lac india iplauction</td>\n",
              "      <td>Negative</td>\n",
              "      <td>Negative</td>\n",
              "    </tr>\n",
              "    <tr>\n",
              "      <th>7</th>\n",
              "      <td>chennai super kings get fray glenn maxwell cur...</td>\n",
              "      <td>Positive</td>\n",
              "      <td>Positive</td>\n",
              "    </tr>\n",
              "    <tr>\n",
              "      <th>8</th>\n",
              "      <td>final 17 1 wicket k pollard 9 b kagiso rabada ...</td>\n",
              "      <td>Negative</td>\n",
              "      <td>Negative</td>\n",
              "    </tr>\n",
              "    <tr>\n",
              "      <th>9</th>\n",
              "      <td>vivoipl back india time circle favorite matche...</td>\n",
              "      <td>Positive</td>\n",
              "      <td>Positive</td>\n",
              "    </tr>\n",
              "    <tr>\n",
              "      <th>10</th>\n",
              "      <td>final 15 3 p dubey kishan 4 runs 135 2 mivdc d...</td>\n",
              "      <td>Positive</td>\n",
              "      <td>Positive</td>\n",
              "    </tr>\n",
              "    <tr>\n",
              "      <th>11</th>\n",
              "      <td>scott kuggeleijn goes unsold india iplauction</td>\n",
              "      <td>Negative</td>\n",
              "      <td>Negative</td>\n",
              "    </tr>\n",
              "    <tr>\n",
              "      <th>12</th>\n",
              "      <td>20 minutes go ready vivo ipl 2021 player aucti...</td>\n",
              "      <td>Positive</td>\n",
              "      <td>Positive</td>\n",
              "    </tr>\n",
              "    <tr>\n",
              "      <th>13</th>\n",
              "      <td>dream come true moment picked massive inr 9 25...</td>\n",
              "      <td>Positive</td>\n",
              "      <td>Positive</td>\n",
              "    </tr>\n",
              "    <tr>\n",
              "      <th>14</th>\n",
              "      <td>josh inglis simarjeet singh go unsold india ip...</td>\n",
              "      <td>Negative</td>\n",
              "      <td>Negative</td>\n",
              "    </tr>\n",
              "    <tr>\n",
              "      <th>15</th>\n",
              "      <td>unacademy lets crack sixes final award goes ro...</td>\n",
              "      <td>Negative</td>\n",
              "      <td>Negative</td>\n",
              "    </tr>\n",
              "    <tr>\n",
              "      <th>16</th>\n",
              "      <td>yet another incredible game outstanding tourna...</td>\n",
              "      <td>Positive</td>\n",
              "      <td>Positive</td>\n",
              "    </tr>\n",
              "    <tr>\n",
              "      <th>17</th>\n",
              "      <td>final 11 5 k rabada r sharma 4 runs 98 2 mivdc...</td>\n",
              "      <td>Negative</td>\n",
              "      <td>Negative</td>\n",
              "    </tr>\n",
              "    <tr>\n",
              "      <th>18</th>\n",
              "      <td>win bidding war bring adam milne board inr 3 2...</td>\n",
              "      <td>Positive</td>\n",
              "      <td>Positive</td>\n",
              "    </tr>\n",
              "    <tr>\n",
              "      <th>19</th>\n",
              "      <td>vivoipl back india time circle favorite matche...</td>\n",
              "      <td>Positive</td>\n",
              "      <td>Positive</td>\n",
              "    </tr>\n",
              "  </tbody>\n",
              "</table>\n",
              "</div>"
            ],
            "text/plain": [
              "                                                 Text  ... predicted_classlebel\n",
              "0          rovman powell goes unsold india iplauction  ...             Negative\n",
              "1               kedar devdhar unsold india iplauction  ...             Negative\n",
              "2   chetan sakariya base price inr 20 lac sold inr...  ...             Negative\n",
              "3   final 15 3 p dubey kishan 4 runs 135 2 mivdc d...  ...             Positive\n",
              "4   shahrukh khan base price 20 lac attracting int...  ...             Negative\n",
              "5   hat tricks ipl leading indian wicket taker ipl...  ...             Positive\n",
              "6       ben cutting moves inr 75 lac india iplauction  ...             Negative\n",
              "7   chennai super kings get fray glenn maxwell cur...  ...             Positive\n",
              "8   final 17 1 wicket k pollard 9 b kagiso rabada ...  ...             Negative\n",
              "9   vivoipl back india time circle favorite matche...  ...             Positive\n",
              "10  final 15 3 p dubey kishan 4 runs 135 2 mivdc d...  ...             Positive\n",
              "11      scott kuggeleijn goes unsold india iplauction  ...             Negative\n",
              "12  20 minutes go ready vivo ipl 2021 player aucti...  ...             Positive\n",
              "13  dream come true moment picked massive inr 9 25...  ...             Positive\n",
              "14  josh inglis simarjeet singh go unsold india ip...  ...             Negative\n",
              "15  unacademy lets crack sixes final award goes ro...  ...             Negative\n",
              "16  yet another incredible game outstanding tourna...  ...             Positive\n",
              "17  final 11 5 k rabada r sharma 4 runs 98 2 mivdc...  ...             Negative\n",
              "18  win bidding war bring adam milne board inr 3 2...  ...             Positive\n",
              "19  vivoipl back india time circle favorite matche...  ...             Positive\n",
              "\n",
              "[20 rows x 3 columns]"
            ]
          },
          "metadata": {
            "tags": []
          },
          "execution_count": 143
        }
      ]
    },
    {
      "cell_type": "code",
      "metadata": {
        "id": "DFQXKyBvWF0K"
      },
      "source": [
        "new = ['BOW','Logistic Regression',1.0,0.9983]\n",
        "results.loc[1] = new"
      ],
      "execution_count": 150,
      "outputs": []
    },
    {
      "cell_type": "markdown",
      "metadata": {
        "id": "gQhYNEMNPrTN"
      },
      "source": [
        "## Liner SVM with BOW"
      ]
    },
    {
      "cell_type": "code",
      "metadata": {
        "id": "WlrbYcUKPJMu",
        "colab": {
          "base_uri": "https://localhost:8080/",
          "height": 342
        },
        "outputId": "ead5899e-8398-4ac8-cd2c-a1542608ceb4"
      },
      "source": [
        "from sklearn.linear_model import SGDClassifier\n",
        "from sklearn.calibration import CalibratedClassifierCV\n",
        "from sklearn.metrics import roc_auc_score\n",
        "import math\n",
        "\n",
        "alpha = [10000,1000,100,10,1,0.1,0.01,0.001,0.0001]\n",
        "\n",
        "train_auc = []\n",
        "test_auc = []\n",
        "\n",
        "for i in alpha:\n",
        "    model = SGDClassifier(alpha=i, loss = \"hinge\") \n",
        "    model.fit(X_train_count,y_train)\n",
        "    prob_cv = model.predict(X_test_count)\n",
        "    test_auc.append(accuracy_score(y_test,prob_cv))\n",
        "    prob_train = model.predict(X_train_count)\n",
        "    train_auc.append(roc_auc_score(y_train,prob_train))\n",
        "optimal_alpha= alpha[test_auc.index(max(test_auc))]\n",
        "alpha=[math.log(x) for x in alpha]\n",
        "\n",
        "#plot auc vs alpha\n",
        "x = plt.subplot( )\n",
        "x.plot(alpha, train_auc, label='Train Accuracy')\n",
        "x.plot(alpha, test_auc, label='Test Accuracy')\n",
        "plt.title('Accuracy vs hyperparameter')\n",
        "plt.xlabel('alpha')\n",
        "plt.ylabel('Accuracy')\n",
        "x.legend()\n",
        "plt.show()\n",
        "\n",
        "print('optimal alpha for which auc is maximum : ',optimal_alpha)"
      ],
      "execution_count": 145,
      "outputs": [
        {
          "output_type": "display_data",
          "data": {
            "image/png": "[encoded data removed]",
            "text/plain": [
              "<Figure size 432x288 with 1 Axes>"
            ]
          },
          "metadata": {
            "tags": []
          }
        },
        {
          "output_type": "stream",
          "text": [
            "optimal alpha for which auc is maximum :  0.001\n"
          ],
          "name": "stdout"
        }
      ]
    },
    {
      "cell_type": "code",
      "metadata": {
        "id": "BgrNyo0SQGTo",
        "colab": {
          "base_uri": "https://localhost:8080/",
          "height": 338
        },
        "outputId": "df7fcc19-1684-4287-a78c-93ccb7a6bdfd"
      },
      "source": [
        "#Testing AUC on Test data\n",
        "svm = SGDClassifier(alpha=optimal_alpha)\n",
        "\n",
        "svm.fit(X_train_count,y_train)\n",
        "\n",
        "filename = '/content/drive/MyDrive/Classroom/Api_svm_bow.pkl'\n",
        "pickle.dump(svm, open(filename, 'wb'))\n",
        "\n",
        "pred_test = svm.predict(X_test_count)\n",
        "test_accuracy = accuracy_score(y_test, pred_test)\n",
        "pred_train = svm.predict(X_train_count)\n",
        "train_accuracy = accuracy_score(y_train,pred_train) \n",
        "\n",
        "\n",
        "\n",
        "\n",
        "print(\"AUC on Test data is \" +str(test_accuracy))\n",
        "print(\"AUC on Train data is \" +str(train_accuracy))\n",
        "\n",
        "print(\"---------------------------\")\n",
        "\n",
        "# Code for drawing seaborn heatmaps\n",
        "from sklearn.metrics import confusion_matrix\n",
        "class_names = ['HAM','SPAM']\n",
        "df_heatmap = pd.DataFrame(confusion_matrix(y_test, pred_test.round()), index=class_names, columns=class_names )\n",
        "fig = plt.figure( )\n",
        "heatmap = sns.heatmap(df_heatmap, annot=True, fmt=\"d\")"
      ],
      "execution_count": 146,
      "outputs": [
        {
          "output_type": "stream",
          "text": [
            "AUC on Test data is 0.9983333333333333\n",
            "AUC on Train data is 1.0\n",
            "---------------------------\n"
          ],
          "name": "stdout"
        },
        {
          "output_type": "display_data",
          "data": {
            "image/png": "[encoded data removed]",
            "text/plain": [
              "<Figure size 432x288 with 2 Axes>"
            ]
          },
          "metadata": {
            "tags": []
          }
        }
      ]
    },
    {
      "cell_type": "code",
      "metadata": {
        "colab": {
          "base_uri": "https://localhost:8080/"
        },
        "id": "LwFQ3LhReK2L",
        "outputId": "974819a6-dfc6-47bd-d192-fd10c001e8ff"
      },
      "source": [
        "le.classes_"
      ],
      "execution_count": 147,
      "outputs": [
        {
          "output_type": "execute_result",
          "data": {
            "text/plain": [
              "array(['Negative', 'Positive'], dtype=object)"
            ]
          },
          "metadata": {
            "tags": []
          },
          "execution_count": 147
        }
      ]
    },
    {
      "cell_type": "code",
      "metadata": {
        "id": "cyOTqgrxNVuD",
        "colab": {
          "base_uri": "https://localhost:8080/",
          "height": 639
        },
        "outputId": "617570a3-2f23-4a5c-e523-7f9ca41b52c6"
      },
      "source": [
        "original =  [\"Positive\" if x==1 else \"Negative\" for x in y_test[:20]]\n",
        "predicted = svm.predict(X_test_count[:20])\n",
        "pred = []\n",
        "\n",
        "for i in predicted:\n",
        "  if i == 1:\n",
        "    k = \"Positive\"\n",
        "    pred.append(k)\n",
        "  else:\n",
        "    k = \"Negative\"\n",
        "    pred.append(k)\n",
        "# Creating a data frame\n",
        "df = pd.DataFrame(list(zip(X_test[:20],original, pred,)), \n",
        "               columns =['Text','original_Classlabel', 'predicted_classlebel'])\n",
        "df"
      ],
      "execution_count": 148,
      "outputs": [
        {
          "output_type": "execute_result",
          "data": {
            "text/html": [
              "<div>\n",
              "<style scoped>\n",
              "    .dataframe tbody tr th:only-of-type {\n",
              "        vertical-align: middle;\n",
              "    }\n",
              "\n",
              "    .dataframe tbody tr th {\n",
              "        vertical-align: top;\n",
              "    }\n",
              "\n",
              "    .dataframe thead th {\n",
              "        text-align: right;\n",
              "    }\n",
              "</style>\n",
              "<table border=\"1\" class=\"dataframe\">\n",
              "  <thead>\n",
              "    <tr style=\"text-align: right;\">\n",
              "      <th></th>\n",
              "      <th>Text</th>\n",
              "      <th>original_Classlabel</th>\n",
              "      <th>predicted_classlebel</th>\n",
              "    </tr>\n",
              "  </thead>\n",
              "  <tbody>\n",
              "    <tr>\n",
              "      <th>0</th>\n",
              "      <td>rovman powell goes unsold india iplauction</td>\n",
              "      <td>Negative</td>\n",
              "      <td>Negative</td>\n",
              "    </tr>\n",
              "    <tr>\n",
              "      <th>1</th>\n",
              "      <td>kedar devdhar unsold india iplauction</td>\n",
              "      <td>Negative</td>\n",
              "      <td>Negative</td>\n",
              "    </tr>\n",
              "    <tr>\n",
              "      <th>2</th>\n",
              "      <td>chetan sakariya base price inr 20 lac sold inr...</td>\n",
              "      <td>Negative</td>\n",
              "      <td>Negative</td>\n",
              "    </tr>\n",
              "    <tr>\n",
              "      <th>3</th>\n",
              "      <td>final 15 3 p dubey kishan 4 runs 135 2 mivdc d...</td>\n",
              "      <td>Positive</td>\n",
              "      <td>Positive</td>\n",
              "    </tr>\n",
              "    <tr>\n",
              "      <th>4</th>\n",
              "      <td>shahrukh khan base price 20 lac attracting int...</td>\n",
              "      <td>Negative</td>\n",
              "      <td>Negative</td>\n",
              "    </tr>\n",
              "    <tr>\n",
              "      <th>5</th>\n",
              "      <td>hat tricks ipl leading indian wicket taker ipl...</td>\n",
              "      <td>Positive</td>\n",
              "      <td>Positive</td>\n",
              "    </tr>\n",
              "    <tr>\n",
              "      <th>6</th>\n",
              "      <td>ben cutting moves inr 75 lac india iplauction</td>\n",
              "      <td>Negative</td>\n",
              "      <td>Negative</td>\n",
              "    </tr>\n",
              "    <tr>\n",
              "      <th>7</th>\n",
              "      <td>chennai super kings get fray glenn maxwell cur...</td>\n",
              "      <td>Positive</td>\n",
              "      <td>Positive</td>\n",
              "    </tr>\n",
              "    <tr>\n",
              "      <th>8</th>\n",
              "      <td>final 17 1 wicket k pollard 9 b kagiso rabada ...</td>\n",
              "      <td>Negative</td>\n",
              "      <td>Negative</td>\n",
              "    </tr>\n",
              "    <tr>\n",
              "      <th>9</th>\n",
              "      <td>vivoipl back india time circle favorite matche...</td>\n",
              "      <td>Positive</td>\n",
              "      <td>Positive</td>\n",
              "    </tr>\n",
              "    <tr>\n",
              "      <th>10</th>\n",
              "      <td>final 15 3 p dubey kishan 4 runs 135 2 mivdc d...</td>\n",
              "      <td>Positive</td>\n",
              "      <td>Positive</td>\n",
              "    </tr>\n",
              "    <tr>\n",
              "      <th>11</th>\n",
              "      <td>scott kuggeleijn goes unsold india iplauction</td>\n",
              "      <td>Negative</td>\n",
              "      <td>Negative</td>\n",
              "    </tr>\n",
              "    <tr>\n",
              "      <th>12</th>\n",
              "      <td>20 minutes go ready vivo ipl 2021 player aucti...</td>\n",
              "      <td>Positive</td>\n",
              "      <td>Positive</td>\n",
              "    </tr>\n",
              "    <tr>\n",
              "      <th>13</th>\n",
              "      <td>dream come true moment picked massive inr 9 25...</td>\n",
              "      <td>Positive</td>\n",
              "      <td>Positive</td>\n",
              "    </tr>\n",
              "    <tr>\n",
              "      <th>14</th>\n",
              "      <td>josh inglis simarjeet singh go unsold india ip...</td>\n",
              "      <td>Negative</td>\n",
              "      <td>Negative</td>\n",
              "    </tr>\n",
              "    <tr>\n",
              "      <th>15</th>\n",
              "      <td>unacademy lets crack sixes final award goes ro...</td>\n",
              "      <td>Negative</td>\n",
              "      <td>Negative</td>\n",
              "    </tr>\n",
              "    <tr>\n",
              "      <th>16</th>\n",
              "      <td>yet another incredible game outstanding tourna...</td>\n",
              "      <td>Positive</td>\n",
              "      <td>Positive</td>\n",
              "    </tr>\n",
              "    <tr>\n",
              "      <th>17</th>\n",
              "      <td>final 11 5 k rabada r sharma 4 runs 98 2 mivdc...</td>\n",
              "      <td>Negative</td>\n",
              "      <td>Negative</td>\n",
              "    </tr>\n",
              "    <tr>\n",
              "      <th>18</th>\n",
              "      <td>win bidding war bring adam milne board inr 3 2...</td>\n",
              "      <td>Positive</td>\n",
              "      <td>Positive</td>\n",
              "    </tr>\n",
              "    <tr>\n",
              "      <th>19</th>\n",
              "      <td>vivoipl back india time circle favorite matche...</td>\n",
              "      <td>Positive</td>\n",
              "      <td>Positive</td>\n",
              "    </tr>\n",
              "  </tbody>\n",
              "</table>\n",
              "</div>"
            ],
            "text/plain": [
              "                                                 Text  ... predicted_classlebel\n",
              "0          rovman powell goes unsold india iplauction  ...             Negative\n",
              "1               kedar devdhar unsold india iplauction  ...             Negative\n",
              "2   chetan sakariya base price inr 20 lac sold inr...  ...             Negative\n",
              "3   final 15 3 p dubey kishan 4 runs 135 2 mivdc d...  ...             Positive\n",
              "4   shahrukh khan base price 20 lac attracting int...  ...             Negative\n",
              "5   hat tricks ipl leading indian wicket taker ipl...  ...             Positive\n",
              "6       ben cutting moves inr 75 lac india iplauction  ...             Negative\n",
              "7   chennai super kings get fray glenn maxwell cur...  ...             Positive\n",
              "8   final 17 1 wicket k pollard 9 b kagiso rabada ...  ...             Negative\n",
              "9   vivoipl back india time circle favorite matche...  ...             Positive\n",
              "10  final 15 3 p dubey kishan 4 runs 135 2 mivdc d...  ...             Positive\n",
              "11      scott kuggeleijn goes unsold india iplauction  ...             Negative\n",
              "12  20 minutes go ready vivo ipl 2021 player aucti...  ...             Positive\n",
              "13  dream come true moment picked massive inr 9 25...  ...             Positive\n",
              "14  josh inglis simarjeet singh go unsold india ip...  ...             Negative\n",
              "15  unacademy lets crack sixes final award goes ro...  ...             Negative\n",
              "16  yet another incredible game outstanding tourna...  ...             Positive\n",
              "17  final 11 5 k rabada r sharma 4 runs 98 2 mivdc...  ...             Negative\n",
              "18  win bidding war bring adam milne board inr 3 2...  ...             Positive\n",
              "19  vivoipl back india time circle favorite matche...  ...             Positive\n",
              "\n",
              "[20 rows x 3 columns]"
            ]
          },
          "metadata": {
            "tags": []
          },
          "execution_count": 148
        }
      ]
    },
    {
      "cell_type": "code",
      "metadata": {
        "id": "AvVkoNa5WQbN"
      },
      "source": [
        "new = ['BOW','SVM',1.0,0.9983]\n",
        "results.loc[2] = new"
      ],
      "execution_count": 149,
      "outputs": []
    },
    {
      "cell_type": "markdown",
      "metadata": {
        "id": "eZQDKsfwW0B4"
      },
      "source": [
        "## Performance Table"
      ]
    },
    {
      "cell_type": "code",
      "metadata": {
        "id": "1oTFtuJHWyhA",
        "colab": {
          "base_uri": "https://localhost:8080/",
          "height": 136
        },
        "outputId": "2f690445-70c5-4a1f-baa3-280da4ff0b5d"
      },
      "source": [
        "results"
      ],
      "execution_count": 151,
      "outputs": [
        {
          "output_type": "execute_result",
          "data": {
            "text/html": [
              "<div>\n",
              "<style scoped>\n",
              "    .dataframe tbody tr th:only-of-type {\n",
              "        vertical-align: middle;\n",
              "    }\n",
              "\n",
              "    .dataframe tbody tr th {\n",
              "        vertical-align: top;\n",
              "    }\n",
              "\n",
              "    .dataframe thead th {\n",
              "        text-align: right;\n",
              "    }\n",
              "</style>\n",
              "<table border=\"1\" class=\"dataframe\">\n",
              "  <thead>\n",
              "    <tr style=\"text-align: right;\">\n",
              "      <th></th>\n",
              "      <th>Featuraization</th>\n",
              "      <th>Model</th>\n",
              "      <th>Train-Accuracy</th>\n",
              "      <th>Test-Accuracy</th>\n",
              "    </tr>\n",
              "  </thead>\n",
              "  <tbody>\n",
              "    <tr>\n",
              "      <th>0</th>\n",
              "      <td>BOW</td>\n",
              "      <td>Random Forest</td>\n",
              "      <td>1.0</td>\n",
              "      <td>1.0000</td>\n",
              "    </tr>\n",
              "    <tr>\n",
              "      <th>1</th>\n",
              "      <td>BOW</td>\n",
              "      <td>Logistic Regression</td>\n",
              "      <td>1.0</td>\n",
              "      <td>0.9983</td>\n",
              "    </tr>\n",
              "    <tr>\n",
              "      <th>2</th>\n",
              "      <td>BOW</td>\n",
              "      <td>SVM</td>\n",
              "      <td>1.0</td>\n",
              "      <td>0.9983</td>\n",
              "    </tr>\n",
              "  </tbody>\n",
              "</table>\n",
              "</div>"
            ],
            "text/plain": [
              "  Featuraization                Model  Train-Accuracy  Test-Accuracy\n",
              "0            BOW        Random Forest             1.0         1.0000\n",
              "1            BOW  Logistic Regression             1.0         0.9983\n",
              "2            BOW                  SVM             1.0         0.9983"
            ]
          },
          "metadata": {
            "tags": []
          },
          "execution_count": 151
        }
      ]
    },
    {
      "cell_type": "code",
      "metadata": {
        "id": "PMhgT2Jxehy4"
      },
      "source": [
        ""
      ],
      "execution_count": null,
      "outputs": []
    }
  ]
}